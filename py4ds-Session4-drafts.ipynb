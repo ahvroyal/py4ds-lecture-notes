{
 "cells": [
  {
   "cell_type": "markdown",
   "id": "e74cd341",
   "metadata": {},
   "source": [
    "## Session 4"
   ]
  },
  {
   "cell_type": "markdown",
   "id": "9e51f7fb",
   "metadata": {},
   "source": [
    "### Sorting list"
   ]
  },
  {
   "cell_type": "code",
   "execution_count": 1,
   "id": "b66c23f4",
   "metadata": {},
   "outputs": [
    {
     "name": "stdout",
     "output_type": "stream",
     "text": [
      "[11, 15, 19, 21]\n"
     ]
    }
   ],
   "source": [
    "ages = [21, 11, 15, 19]\n",
    "names = [\"ali\", \"hamid\", \"sara\", \"babak\", \"mohammad\"]\n",
    "ages.sort()\n",
    "print(ages)"
   ]
  },
  {
   "cell_type": "code",
   "execution_count": 2,
   "id": "bef16420",
   "metadata": {},
   "outputs": [
    {
     "name": "stdout",
     "output_type": "stream",
     "text": [
      "11\n",
      "15\n",
      "19\n",
      "21\n"
     ]
    }
   ],
   "source": [
    "# sorted is a generator which returns an iterator on sorted list (it doesn't change the original list)\n",
    "for age in sorted(ages):\n",
    "    print(age)"
   ]
  },
  {
   "cell_type": "code",
   "execution_count": 3,
   "id": "0e480c38",
   "metadata": {},
   "outputs": [
    {
     "name": "stdout",
     "output_type": "stream",
     "text": [
      "['ali', 'sara', 'hamid', 'babak', 'mohammad']\n"
     ]
    }
   ],
   "source": [
    "# names can also be sorted (sorts based on alphabetical order)\n",
    "# we can also define our own criteria on sorting the lists\n",
    "# defining sort logic using 'key' parameter in both functions above :\n",
    "names.sort(key=len)\n",
    "print(names)"
   ]
  },
  {
   "cell_type": "code",
   "execution_count": 4,
   "id": "de54ce3c",
   "metadata": {},
   "outputs": [],
   "source": [
    "# my_key logic below will sort the list in asc order :\n",
    "def my_key(s):\n",
    "    return len(s)"
   ]
  },
  {
   "cell_type": "code",
   "execution_count": 5,
   "id": "537921cb",
   "metadata": {},
   "outputs": [],
   "source": [
    "# my_key logic below will sort the list in dec order :\n",
    "def my_key2(s):\n",
    "    return 1-len(s)"
   ]
  },
  {
   "cell_type": "code",
   "execution_count": 6,
   "id": "5a304198",
   "metadata": {},
   "outputs": [
    {
     "name": "stdout",
     "output_type": "stream",
     "text": [
      "['a', 'aa', 'aaa']\n"
     ]
    }
   ],
   "source": [
    "letters = [\"a\", \"aaa\", \"aa\"]\n",
    "letters.sort(key=my_key)\n",
    "print(letters)"
   ]
  },
  {
   "cell_type": "code",
   "execution_count": 7,
   "id": "4998d64c",
   "metadata": {},
   "outputs": [
    {
     "name": "stdout",
     "output_type": "stream",
     "text": [
      "4\n"
     ]
    }
   ],
   "source": [
    "# using lambda expression\n",
    "my_lambda_def = lambda s: len(s)\n",
    "print(my_lambda_def(\"amir\"))"
   ]
  },
  {
   "cell_type": "markdown",
   "id": "a6b4a671",
   "metadata": {},
   "source": [
    "### List Comprehension"
   ]
  },
  {
   "cell_type": "code",
   "execution_count": 8,
   "id": "1f89f07e",
   "metadata": {},
   "outputs": [
    {
     "name": "stdout",
     "output_type": "stream",
     "text": [
      "25\n"
     ]
    }
   ],
   "source": [
    "print(5**2)"
   ]
  },
  {
   "cell_type": "code",
   "execution_count": 9,
   "id": "39942c69",
   "metadata": {},
   "outputs": [
    {
     "name": "stdout",
     "output_type": "stream",
     "text": [
      "[4, 9, 36, 49]\n"
     ]
    }
   ],
   "source": [
    "numbers = [2, 3, 6, 7]\n",
    "# we can not do this --> numbers**2\n",
    "# first way (without list comprehension)\n",
    "result = []\n",
    "for number in numbers:\n",
    "    result.append(number**2)\n",
    "\n",
    "print(result)"
   ]
  },
  {
   "cell_type": "code",
   "execution_count": 10,
   "id": "e0675c95",
   "metadata": {},
   "outputs": [
    {
     "name": "stdout",
     "output_type": "stream",
     "text": [
      "[4, 9, 36, 49]\n"
     ]
    }
   ],
   "source": [
    "# second way (with list comprehension)\n",
    "result2 = [n**2 for n in numbers]\n",
    "print(result2)"
   ]
  },
  {
   "cell_type": "markdown",
   "id": "ecf8d418",
   "metadata": {},
   "source": [
    "### Tuple"
   ]
  },
  {
   "cell_type": "code",
   "execution_count": 11,
   "id": "0441f835",
   "metadata": {},
   "outputs": [],
   "source": [
    "# similar to list, but it's immutable (.ie. we can't add or remove from it)\n",
    "my_tuple = (1, 6, 7)\n",
    "my_tuple2 = (7,)"
   ]
  },
  {
   "cell_type": "code",
   "execution_count": 12,
   "id": "55b4c118",
   "metadata": {},
   "outputs": [
    {
     "name": "stdout",
     "output_type": "stream",
     "text": [
      "[('ali', 11), ('sara', 15), ('hamid', 19), ('babak', 21)]\n"
     ]
    }
   ],
   "source": [
    "# zip function that we discussed previously, actually returns a list of tuples\n",
    "print(list(zip(names, ages)))"
   ]
  },
  {
   "cell_type": "code",
   "execution_count": 13,
   "id": "9026ca6e",
   "metadata": {},
   "outputs": [
    {
     "name": "stdout",
     "output_type": "stream",
     "text": [
      "now a is 7, and b is 8\n"
     ]
    }
   ],
   "source": [
    "my_tuple3 = (7, 8)\n",
    "a, b = my_tuple3\n",
    "print(f\"now a is {a}, and b is {b}\")"
   ]
  },
  {
   "cell_type": "markdown",
   "id": "79a19bfc",
   "metadata": {},
   "source": [
    "### Dictionary"
   ]
  },
  {
   "cell_type": "code",
   "execution_count": 14,
   "id": "5c1576d8",
   "metadata": {},
   "outputs": [],
   "source": [
    "# list: number --> object\n",
    "# dict: object --> object"
   ]
  },
  {
   "cell_type": "code",
   "execution_count": 15,
   "id": "9b5a0e0f",
   "metadata": {},
   "outputs": [
    {
     "name": "stdout",
     "output_type": "stream",
     "text": [
      "26\n"
     ]
    }
   ],
   "source": [
    "ages_dict = {\"ali\": 20, \"hamid\": 26, \"zahra\": 19}\n",
    "print(ages_dict[\"hamid\"])"
   ]
  },
  {
   "cell_type": "code",
   "execution_count": 16,
   "id": "a8374c2b",
   "metadata": {},
   "outputs": [
    {
     "name": "stdout",
     "output_type": "stream",
     "text": [
      "True\n"
     ]
    }
   ],
   "source": [
    "# check whether a specific key exists in a dict\n",
    "print(\"hamid\" in ages_dict)"
   ]
  },
  {
   "cell_type": "code",
   "execution_count": 17,
   "id": "0bcc63a2",
   "metadata": {},
   "outputs": [
    {
     "name": "stdout",
     "output_type": "stream",
     "text": [
      "19\n",
      "19\n"
     ]
    }
   ],
   "source": [
    "# access to the value of a specific key\n",
    "print(ages_dict[\"zahra\"])  # raise error if the key doesn't exist in the dict\n",
    "print(ages_dict.get(\"zahra\"))  # returns None if the key doesn't exist in the dict"
   ]
  },
  {
   "cell_type": "code",
   "execution_count": 18,
   "id": "ee5a9460",
   "metadata": {},
   "outputs": [
    {
     "name": "stdout",
     "output_type": "stream",
     "text": [
      "3\n"
     ]
    }
   ],
   "source": [
    "print(len(ages_dict))"
   ]
  },
  {
   "cell_type": "markdown",
   "id": "7392aeff",
   "metadata": {},
   "source": [
    "### iteration over dicts"
   ]
  },
  {
   "cell_type": "code",
   "execution_count": 19,
   "id": "a4f628b5",
   "metadata": {},
   "outputs": [
    {
     "name": "stdout",
     "output_type": "stream",
     "text": [
      "ali\n",
      "hamid\n",
      "zahra\n"
     ]
    }
   ],
   "source": [
    "# accessing keys of the dict is like lists :\n",
    "for k in ages_dict:  # could also say ages_dict.keys()\n",
    "    print(k)"
   ]
  },
  {
   "cell_type": "code",
   "execution_count": 20,
   "id": "1b73260a",
   "metadata": {},
   "outputs": [
    {
     "name": "stdout",
     "output_type": "stream",
     "text": [
      "20\n",
      "26\n",
      "19\n"
     ]
    }
   ],
   "source": [
    "# accessing values of the dict is like this :\n",
    "for v in ages_dict.values():\n",
    "    print(v)"
   ]
  },
  {
   "cell_type": "code",
   "execution_count": 21,
   "id": "97a3a084",
   "metadata": {},
   "outputs": [
    {
     "name": "stdout",
     "output_type": "stream",
     "text": [
      "key ali value is : 20\n",
      "key hamid value is : 26\n",
      "key zahra value is : 19\n"
     ]
    }
   ],
   "source": [
    "# accessing both keys and values of the dict together :\n",
    "for k, v in ages_dict.items():\n",
    "    print(f\"key {k} value is : {v}\")"
   ]
  },
  {
   "cell_type": "code",
   "execution_count": 22,
   "id": "69f24afb",
   "metadata": {},
   "outputs": [
    {
     "name": "stdout",
     "output_type": "stream",
     "text": [
      "{'hamid': 26, 'zahra': 19}\n"
     ]
    }
   ],
   "source": [
    "# removing from the dictionary\n",
    "ages_dict.pop(\"ali\")\n",
    "print(ages_dict)"
   ]
  },
  {
   "cell_type": "code",
   "execution_count": 23,
   "id": "d7d08ef6",
   "metadata": {},
   "outputs": [
    {
     "name": "stdout",
     "output_type": "stream",
     "text": [
      "{'hamid': 26, 'zahra': 19, 'babak': 31}\n"
     ]
    }
   ],
   "source": [
    "# adding to the dictionary\n",
    "ages_dict[\"babak\"] = 31\n",
    "print(ages_dict)"
   ]
  },
  {
   "cell_type": "code",
   "execution_count": 24,
   "id": "05e95c85",
   "metadata": {},
   "outputs": [
    {
     "name": "stdout",
     "output_type": "stream",
     "text": [
      "{'hamid': 27, 'zahra': 20, 'babak': 32}\n"
     ]
    }
   ],
   "source": [
    "# dict comprehension\n",
    "ages_dict2 = {k: v+1 for k, v in ages_dict.items()}\n",
    "print(ages_dict2)"
   ]
  },
  {
   "cell_type": "markdown",
   "id": "2822bcac",
   "metadata": {},
   "source": [
    "### Nested Structures"
   ]
  },
  {
   "cell_type": "code",
   "execution_count": 25,
   "id": "a9d25c7c",
   "metadata": {},
   "outputs": [
    {
     "name": "stdout",
     "output_type": "stream",
     "text": [
      "don't lookup\n"
     ]
    }
   ],
   "source": [
    "# example : favorite movies ({name --> [list]})\n",
    "fm = {\"ali\": [\"godfather\", \"12 angry man\"],\n",
    "      \"hamid\": [\"inception\"],\n",
    "      \"sara\": [\"don't lookup\", \"children of heaven\", \"the goood ...\"],\n",
    "      \"babak\": []}\n",
    "\n",
    "print(fm[\"sara\"][0])"
   ]
  },
  {
   "cell_type": "code",
   "execution_count": null,
   "id": "d6776e29",
   "metadata": {},
   "outputs": [],
   "source": []
  }
 ],
 "metadata": {
  "kernelspec": {
   "display_name": "Python 3 (ipykernel)",
   "language": "python",
   "name": "python3"
  },
  "language_info": {
   "codemirror_mode": {
    "name": "ipython",
    "version": 3
   },
   "file_extension": ".py",
   "mimetype": "text/x-python",
   "name": "python",
   "nbconvert_exporter": "python",
   "pygments_lexer": "ipython3",
   "version": "3.8.10"
  }
 },
 "nbformat": 4,
 "nbformat_minor": 5
}
