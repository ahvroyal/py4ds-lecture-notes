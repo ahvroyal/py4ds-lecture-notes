{
 "cells": [
  {
   "cell_type": "markdown",
   "id": "1983b440",
   "metadata": {},
   "source": [
    "## Session 9 (numpy part e)\n",
    "\n",
    "### Advanced (fancy) Indexing"
   ]
  },
  {
   "cell_type": "code",
   "execution_count": 28,
   "id": "9cd1fb89",
   "metadata": {},
   "outputs": [],
   "source": [
    "%matplotlib inline\n",
    "import numpy as np\n",
    "import matplotlib.pyplot as plt"
   ]
  },
  {
   "cell_type": "code",
   "execution_count": 2,
   "id": "f6598c39",
   "metadata": {},
   "outputs": [
    {
     "data": {
      "text/plain": [
       "array([4, 6, 3, 9, 8, 9, 3, 6, 1, 3])"
      ]
     },
     "execution_count": 2,
     "metadata": {},
     "output_type": "execute_result"
    }
   ],
   "source": [
    "a = np.random.randint(1, 10, size=10)\n",
    "a"
   ]
  },
  {
   "cell_type": "code",
   "execution_count": 3,
   "id": "b389c70a",
   "metadata": {},
   "outputs": [
    {
     "name": "stdout",
     "output_type": "stream",
     "text": [
      "9\n",
      "[9 8 9 3 6 1 3]\n"
     ]
    }
   ],
   "source": [
    "# simple indexing discussed earlier\n",
    "print(a[3])\n",
    "print(a[3:])"
   ]
  },
  {
   "cell_type": "code",
   "execution_count": 5,
   "id": "fde468f5",
   "metadata": {},
   "outputs": [
    {
     "data": {
      "text/plain": [
       "array([6, 9, 3])"
      ]
     },
     "execution_count": 5,
     "metadata": {},
     "output_type": "execute_result"
    }
   ],
   "source": [
    "ix = np.array([1, 3, 6]) # it could be also a python list (i.e. ix = [1, 3, 6])\n",
    "a[ix]"
   ]
  },
  {
   "cell_type": "code",
   "execution_count": 9,
   "id": "54aae437",
   "metadata": {},
   "outputs": [],
   "source": [
    "# result of indexing will have the shape of index array"
   ]
  },
  {
   "cell_type": "code",
   "execution_count": 7,
   "id": "9104357d",
   "metadata": {},
   "outputs": [
    {
     "data": {
      "text/plain": [
       "array([[1, 3],\n",
       "       [1, 7]])"
      ]
     },
     "execution_count": 7,
     "metadata": {},
     "output_type": "execute_result"
    }
   ],
   "source": [
    "ix = np.array([[1, 3], [1, 7]])\n",
    "ix"
   ]
  },
  {
   "cell_type": "code",
   "execution_count": 8,
   "id": "2da5b626",
   "metadata": {},
   "outputs": [
    {
     "data": {
      "text/plain": [
       "array([[6, 9],\n",
       "       [6, 6]])"
      ]
     },
     "execution_count": 8,
     "metadata": {},
     "output_type": "execute_result"
    }
   ],
   "source": [
    "a[ix]"
   ]
  },
  {
   "cell_type": "markdown",
   "id": "36f57463",
   "metadata": {},
   "source": [
    "### indexing a 2d array"
   ]
  },
  {
   "cell_type": "code",
   "execution_count": 10,
   "id": "d6918d9e",
   "metadata": {},
   "outputs": [
    {
     "data": {
      "text/plain": [
       "array([[ 0,  1,  2,  3],\n",
       "       [ 4,  5,  6,  7],\n",
       "       [ 8,  9, 10, 11]])"
      ]
     },
     "execution_count": 10,
     "metadata": {},
     "output_type": "execute_result"
    }
   ],
   "source": [
    "a = np.arange(12).reshape((3, 4))\n",
    "a"
   ]
  },
  {
   "cell_type": "code",
   "execution_count": 12,
   "id": "2f921066",
   "metadata": {},
   "outputs": [],
   "source": [
    "# simple indexing"
   ]
  },
  {
   "cell_type": "code",
   "execution_count": 13,
   "id": "60c32278",
   "metadata": {},
   "outputs": [
    {
     "data": {
      "text/plain": [
       "6"
      ]
     },
     "execution_count": 13,
     "metadata": {},
     "output_type": "execute_result"
    }
   ],
   "source": [
    "a[1, 2]"
   ]
  },
  {
   "cell_type": "code",
   "execution_count": 14,
   "id": "2118ee3c",
   "metadata": {},
   "outputs": [
    {
     "data": {
      "text/plain": [
       "6"
      ]
     },
     "execution_count": 14,
     "metadata": {},
     "output_type": "execute_result"
    }
   ],
   "source": [
    "a[1][2]"
   ]
  },
  {
   "cell_type": "code",
   "execution_count": 15,
   "id": "4f0fabff",
   "metadata": {},
   "outputs": [
    {
     "data": {
      "text/plain": [
       "array([ 5, 11])"
      ]
     },
     "execution_count": 15,
     "metadata": {},
     "output_type": "execute_result"
    }
   ],
   "source": [
    "rows = [1, 2]\n",
    "cols = [1, 3]\n",
    "a[rows, cols]"
   ]
  },
  {
   "cell_type": "code",
   "execution_count": 16,
   "id": "3de094aa",
   "metadata": {},
   "outputs": [
    {
     "data": {
      "text/plain": [
       "array([ 5, 11])"
      ]
     },
     "execution_count": 16,
     "metadata": {},
     "output_type": "execute_result"
    }
   ],
   "source": [
    "a[[1, 2], [1, 3]]"
   ]
  },
  {
   "cell_type": "code",
   "execution_count": 18,
   "id": "fe3a5cad",
   "metadata": {},
   "outputs": [],
   "source": [
    "# in case of different index shapes, the broadcasting rules will be applied :"
   ]
  },
  {
   "cell_type": "code",
   "execution_count": 19,
   "id": "8b62f06e",
   "metadata": {},
   "outputs": [
    {
     "data": {
      "text/plain": [
       "array([5, 7])"
      ]
     },
     "execution_count": 19,
     "metadata": {},
     "output_type": "execute_result"
    }
   ],
   "source": [
    "a[1, [1, 3]]"
   ]
  },
  {
   "cell_type": "markdown",
   "id": "6f679bba",
   "metadata": {},
   "source": [
    "### advanced indexing can be used in combination with slicing"
   ]
  },
  {
   "cell_type": "code",
   "execution_count": 20,
   "id": "f58f6df9",
   "metadata": {},
   "outputs": [
    {
     "data": {
      "text/plain": [
       "array([[ 0,  1,  2,  3],\n",
       "       [ 4,  5,  6,  7],\n",
       "       [ 8,  9, 10, 11]])"
      ]
     },
     "execution_count": 20,
     "metadata": {},
     "output_type": "execute_result"
    }
   ],
   "source": [
    "a"
   ]
  },
  {
   "cell_type": "code",
   "execution_count": 21,
   "id": "612885d6",
   "metadata": {},
   "outputs": [
    {
     "data": {
      "text/plain": [
       "array([[ 4,  5,  6,  7],\n",
       "       [ 8,  9, 10, 11]])"
      ]
     },
     "execution_count": 21,
     "metadata": {},
     "output_type": "execute_result"
    }
   ],
   "source": [
    "a[1:]"
   ]
  },
  {
   "cell_type": "code",
   "execution_count": 24,
   "id": "55a5e58b",
   "metadata": {},
   "outputs": [
    {
     "data": {
      "text/plain": [
       "array([[ 4,  7],\n",
       "       [ 8, 11]])"
      ]
     },
     "execution_count": 24,
     "metadata": {},
     "output_type": "execute_result"
    }
   ],
   "source": [
    "a[1:, [0, 3]]"
   ]
  },
  {
   "cell_type": "markdown",
   "id": "ef6497b1",
   "metadata": {},
   "source": [
    "### advanced indexing example"
   ]
  },
  {
   "cell_type": "code",
   "execution_count": 25,
   "id": "9dc6fce1",
   "metadata": {},
   "outputs": [],
   "source": [
    "x = np.random.randint(0, 100, size=100)\n",
    "y = np.random.uniform(300, 400, size=100)"
   ]
  },
  {
   "cell_type": "code",
   "execution_count": 26,
   "id": "726fa7e4",
   "metadata": {},
   "outputs": [
    {
     "data": {
      "text/plain": [
       "array([14, 69, 92, 24, 55, 99, 76, 35, 67, 10, 71, 68,  5, 92, 86, 77, 20,\n",
       "       75, 42, 54, 10,  3, 67, 98, 70, 40, 97, 43, 66, 38, 89, 49, 15, 69,\n",
       "       72, 25, 29, 55, 54, 90, 86, 47, 20, 45, 27, 56, 66, 64, 26,  0, 12,\n",
       "       60, 73, 40, 17, 78, 96, 77, 17, 90, 42, 16, 23, 78, 56, 13,  8, 59,\n",
       "        5,  3, 88, 90, 25, 50, 49,  6, 61, 87, 82, 27, 29,  5, 66, 24, 62,\n",
       "        2, 88, 40, 33, 58, 16, 34, 86, 77,  2,  2, 70, 48,  1, 87])"
      ]
     },
     "execution_count": 26,
     "metadata": {},
     "output_type": "execute_result"
    }
   ],
   "source": [
    "x"
   ]
  },
  {
   "cell_type": "code",
   "execution_count": 27,
   "id": "b4a4bb19",
   "metadata": {},
   "outputs": [
    {
     "data": {
      "text/plain": [
       "array([357.90588006, 328.58128447, 317.60203007, 322.56991853,\n",
       "       334.66186712, 370.33075519, 323.44649002, 320.71475098,\n",
       "       337.46662255, 318.80282745, 397.32040916, 324.70305103,\n",
       "       328.69743707, 313.1124383 , 388.35055685, 353.6217657 ,\n",
       "       342.93509246, 343.43975706, 316.054278  , 339.2595008 ,\n",
       "       372.0980077 , 304.62300166, 301.70476295, 367.12677111,\n",
       "       312.08349885, 348.18403687, 370.56262994, 398.02148597,\n",
       "       347.76524593, 327.35921578, 393.97513358, 366.29421326,\n",
       "       330.15322341, 342.88094501, 373.23259772, 308.3000393 ,\n",
       "       388.05820069, 384.21111755, 302.12987082, 395.93099285,\n",
       "       388.21394956, 356.42805436, 310.00284549, 318.78606678,\n",
       "       338.61640313, 374.15179907, 316.75430139, 368.12223617,\n",
       "       338.8736942 , 302.00096032, 332.12588216, 329.06707908,\n",
       "       353.38433931, 329.85101269, 339.60176545, 372.74106937,\n",
       "       318.47914118, 396.62552372, 322.40818234, 355.88423321,\n",
       "       350.2727035 , 373.42800358, 358.77756491, 337.27922592,\n",
       "       327.49398809, 346.88472828, 314.95493608, 301.28186712,\n",
       "       341.1391577 , 335.75410269, 388.74731301, 317.89766437,\n",
       "       349.23926491, 316.5324502 , 358.18175507, 389.12396392,\n",
       "       342.72314121, 326.40696041, 369.49522646, 336.62628953,\n",
       "       311.4483397 , 322.06600788, 383.5465496 , 305.94517993,\n",
       "       347.50956573, 361.59520556, 375.65403567, 320.35646982,\n",
       "       315.52682622, 322.42573657, 315.29134005, 378.44088449,\n",
       "       302.74771006, 385.83088636, 396.0268879 , 375.09889287,\n",
       "       313.87612109, 344.74944019, 393.69737528, 358.07071983])"
      ]
     },
     "execution_count": 27,
     "metadata": {},
     "output_type": "execute_result"
    }
   ],
   "source": [
    "y"
   ]
  },
  {
   "cell_type": "code",
   "execution_count": 29,
   "id": "3c61b364",
   "metadata": {},
   "outputs": [
    {
     "data": {
      "text/plain": [
       "<matplotlib.collections.PathCollection at 0x7fddafa92a60>"
      ]
     },
     "execution_count": 29,
     "metadata": {},
     "output_type": "execute_result"
    },
    {
     "data": {
      "image/png": "[encoded data removed]",
      "text/plain": [
       "<Figure size 432x288 with 1 Axes>"
      ]
     },
     "metadata": {
      "needs_background": "light"
     },
     "output_type": "display_data"
    }
   ],
   "source": [
    "plt.scatter(x, y)"
   ]
  },
  {
   "cell_type": "code",
   "execution_count": 32,
   "id": "14d64e18",
   "metadata": {},
   "outputs": [
    {
     "data": {
      "text/plain": [
       "array([87, 95, 62, 13, 14, 23, 97, 11,  2, 27, 85,  8,  4, 42, 38, 63, 15,\n",
       "       61, 26, 68])"
      ]
     },
     "execution_count": 32,
     "metadata": {},
     "output_type": "execute_result"
    }
   ],
   "source": [
    "ix = np.random.choice(100, 20, replace=False) # setting replace parameter to False will prevent duplicate results\n",
    "ix"
   ]
  },
  {
   "cell_type": "code",
   "execution_count": 33,
   "id": "4fd5df4d",
   "metadata": {},
   "outputs": [
    {
     "data": {
      "text/plain": [
       "<matplotlib.collections.PathCollection at 0x7fddaa90b940>"
      ]
     },
     "execution_count": 33,
     "metadata": {},
     "output_type": "execute_result"
    },
    {
     "data": {
      "image/png": "[encoded data removed]",
      "text/plain": [
       "<Figure size 432x288 with 1 Axes>"
      ]
     },
     "metadata": {
      "needs_background": "light"
     },
     "output_type": "display_data"
    }
   ],
   "source": [
    "plt.scatter(x[ix], y[ix])"
   ]
  },
  {
   "cell_type": "code",
   "execution_count": 34,
   "id": "35b48f1a",
   "metadata": {},
   "outputs": [],
   "source": [
    "# for merging the plots, we could plot the values in the same cell :"
   ]
  },
  {
   "cell_type": "code",
   "execution_count": 35,
   "id": "e513ad2f",
   "metadata": {},
   "outputs": [
    {
     "data": {
      "text/plain": [
       "<matplotlib.collections.PathCollection at 0x7fddae66a9d0>"
      ]
     },
     "execution_count": 35,
     "metadata": {},
     "output_type": "execute_result"
    },
    {
     "data": {
      "image/png": "[encoded data removed]",
      "text/plain": [
       "<Figure size 432x288 with 1 Axes>"
      ]
     },
     "metadata": {
      "needs_background": "light"
     },
     "output_type": "display_data"
    }
   ],
   "source": [
    "plt.scatter(x, y)\n",
    "plt.scatter(x[ix], y[ix], color='red')"
   ]
  },
  {
   "cell_type": "markdown",
   "id": "c62d73ca",
   "metadata": {},
   "source": [
    "### advanced indexing can be used to modify array elements"
   ]
  },
  {
   "cell_type": "code",
   "execution_count": 36,
   "id": "2357b409",
   "metadata": {},
   "outputs": [
    {
     "data": {
      "text/plain": [
       "array([ 0,  2,  4,  6,  8, 10, 12, 14, 16, 18, 20, 22, 24, 26, 28])"
      ]
     },
     "execution_count": 36,
     "metadata": {},
     "output_type": "execute_result"
    }
   ],
   "source": [
    "a = np.arange(15)*2\n",
    "a"
   ]
  },
  {
   "cell_type": "code",
   "execution_count": 37,
   "id": "d0f3f7c2",
   "metadata": {},
   "outputs": [
    {
     "data": {
      "text/plain": [
       "array([ 6,  8, 10, 12])"
      ]
     },
     "execution_count": 37,
     "metadata": {},
     "output_type": "execute_result"
    }
   ],
   "source": [
    "ix = [3, 4, 5, 6]\n",
    "a[ix]"
   ]
  },
  {
   "cell_type": "code",
   "execution_count": 38,
   "id": "11256396",
   "metadata": {},
   "outputs": [
    {
     "data": {
      "text/plain": [
       "array([ 0,  2,  4,  0,  0,  0,  0, 14, 16, 18, 20, 22, 24, 26, 28])"
      ]
     },
     "execution_count": 38,
     "metadata": {},
     "output_type": "execute_result"
    }
   ],
   "source": [
    "a[ix] = 0\n",
    "a"
   ]
  },
  {
   "cell_type": "code",
   "execution_count": 39,
   "id": "50f128d3",
   "metadata": {},
   "outputs": [
    {
     "data": {
      "text/plain": [
       "array([ 0,  2,  4,  1,  1,  1,  1, 14, 16, 18, 20, 22, 24, 26, 28])"
      ]
     },
     "execution_count": 39,
     "metadata": {},
     "output_type": "execute_result"
    }
   ],
   "source": [
    "a[ix] = [1, 1, 1, 1]\n",
    "a"
   ]
  },
  {
   "cell_type": "code",
   "execution_count": 40,
   "id": "4ab2967f",
   "metadata": {},
   "outputs": [
    {
     "data": {
      "text/plain": [
       "array([ 0,  2,  4,  1,  2,  3,  4, 14, 16, 18, 20, 22, 24, 26, 28])"
      ]
     },
     "execution_count": 40,
     "metadata": {},
     "output_type": "execute_result"
    }
   ],
   "source": [
    "a[ix] = [1, 2, 3, 4]\n",
    "a"
   ]
  },
  {
   "cell_type": "code",
   "execution_count": 41,
   "id": "a35138a7",
   "metadata": {},
   "outputs": [],
   "source": [
    "# what happens if duplicate values exist in the index array ?"
   ]
  },
  {
   "cell_type": "code",
   "execution_count": 42,
   "id": "bbc29323",
   "metadata": {},
   "outputs": [],
   "source": [
    "a = np.arange(15)*2\n",
    "ix = [3, 4, 4, 6]"
   ]
  },
  {
   "cell_type": "code",
   "execution_count": 43,
   "id": "80455e95",
   "metadata": {},
   "outputs": [
    {
     "data": {
      "text/plain": [
       "array([ 0,  2,  4,  6,  8, 10, 12, 14, 16, 18, 20, 22, 24, 26, 28])"
      ]
     },
     "execution_count": 43,
     "metadata": {},
     "output_type": "execute_result"
    }
   ],
   "source": [
    "a"
   ]
  },
  {
   "cell_type": "code",
   "execution_count": 44,
   "id": "8633faa7",
   "metadata": {},
   "outputs": [
    {
     "data": {
      "text/plain": [
       "array([ 6,  8,  8, 12])"
      ]
     },
     "execution_count": 44,
     "metadata": {},
     "output_type": "execute_result"
    }
   ],
   "source": [
    "a[ix]"
   ]
  },
  {
   "cell_type": "code",
   "execution_count": 45,
   "id": "9fde149b",
   "metadata": {},
   "outputs": [
    {
     "data": {
      "text/plain": [
       "array([ 0,  2,  4,  7,  9, 10, 13, 14, 16, 18, 20, 22, 24, 26, 28])"
      ]
     },
     "execution_count": 45,
     "metadata": {},
     "output_type": "execute_result"
    }
   ],
   "source": [
    "a[ix] += 1\n",
    "a"
   ]
  },
  {
   "cell_type": "code",
   "execution_count": null,
   "id": "30b0371a",
   "metadata": {},
   "outputs": [],
   "source": []
  }
 ],
 "metadata": {
  "kernelspec": {
   "display_name": "Python 3 (ipykernel)",
   "language": "python",
   "name": "python3"
  },
  "language_info": {
   "codemirror_mode": {
    "name": "ipython",
    "version": 3
   },
   "file_extension": ".py",
   "mimetype": "text/x-python",
   "name": "python",
   "nbconvert_exporter": "python",
   "pygments_lexer": "ipython3",
   "version": "3.8.10"
  }
 },
 "nbformat": 4,
 "nbformat_minor": 5
}
