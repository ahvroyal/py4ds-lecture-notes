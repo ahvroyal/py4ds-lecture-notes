{
 "cells": [
  {
   "cell_type": "markdown",
   "id": "fffa1a06",
   "metadata": {},
   "source": [
    "## Session 5 (Dict & example)"
   ]
  },
  {
   "cell_type": "markdown",
   "id": "c35a2772",
   "metadata": {},
   "source": [
    "### Dictionaries"
   ]
  },
  {
   "cell_type": "code",
   "execution_count": 37,
   "id": "c801b998",
   "metadata": {},
   "outputs": [
    {
     "name": "stdout",
     "output_type": "stream",
     "text": [
      "21\n",
      "4\n"
     ]
    }
   ],
   "source": [
    "ages = {\"hamid\": 29, \"ali\": 21, \"sara\": 6, \"reza\": 4}\n",
    "print(ages[\"ali\"])\n",
    "print(len(ages))"
   ]
  },
  {
   "cell_type": "code",
   "execution_count": 38,
   "id": "158ea552",
   "metadata": {},
   "outputs": [
    {
     "name": "stdout",
     "output_type": "stream",
     "text": [
      "hamid\n",
      "ali\n",
      "sara\n",
      "reza\n"
     ]
    }
   ],
   "source": [
    "for x in ages:\n",
    "    print(x)"
   ]
  },
  {
   "cell_type": "code",
   "execution_count": 39,
   "id": "31fc00ce",
   "metadata": {},
   "outputs": [
    {
     "name": "stdout",
     "output_type": "stream",
     "text": [
      "29\n",
      "21\n",
      "6\n",
      "4\n"
     ]
    }
   ],
   "source": [
    "for v in ages.values():\n",
    "    print(v)"
   ]
  },
  {
   "cell_type": "code",
   "execution_count": 40,
   "id": "d6e34539",
   "metadata": {},
   "outputs": [
    {
     "name": "stdout",
     "output_type": "stream",
     "text": [
      "hamid 29\n",
      "ali 21\n",
      "sara 6\n",
      "reza 4\n"
     ]
    }
   ],
   "source": [
    "for k, v in ages.items():\n",
    "    print(k, v)"
   ]
  },
  {
   "cell_type": "code",
   "execution_count": 41,
   "id": "fa936526",
   "metadata": {},
   "outputs": [
    {
     "name": "stdout",
     "output_type": "stream",
     "text": [
      "hamid is 29 years old\n",
      "ali is 21 years old\n",
      "sara is 6 years old\n",
      "reza is 4 years old\n"
     ]
    }
   ],
   "source": [
    "for name, age in ages.items():\n",
    "    print(f'{name} is {age} years old')"
   ]
  },
  {
   "cell_type": "markdown",
   "id": "d2749085",
   "metadata": {},
   "source": [
    "### adding/removing items to/from a dict"
   ]
  },
  {
   "cell_type": "code",
   "execution_count": 42,
   "id": "c4863dcc",
   "metadata": {},
   "outputs": [
    {
     "name": "stdout",
     "output_type": "stream",
     "text": [
      "{'hamid': 29, 'sara': 6, 'reza': 4}\n"
     ]
    }
   ],
   "source": [
    "ages.pop(\"ali\")\n",
    "print(ages)"
   ]
  },
  {
   "cell_type": "code",
   "execution_count": 43,
   "id": "745d3914",
   "metadata": {},
   "outputs": [
    {
     "name": "stdout",
     "output_type": "stream",
     "text": [
      "{'hamid': 29, 'sara': 6, 'reza': 4, 'babak': 23}\n"
     ]
    }
   ],
   "source": [
    "ages[\"babak\"] = 23\n",
    "print(ages)"
   ]
  },
  {
   "cell_type": "markdown",
   "id": "8e3831cb",
   "metadata": {},
   "source": [
    "### nested structures"
   ]
  },
  {
   "cell_type": "code",
   "execution_count": 44,
   "id": "08423f15",
   "metadata": {},
   "outputs": [],
   "source": [
    "favorite_foods = {\n",
    "    \"ali\": [\"pizza\", \"ghorme sabzi\"],\n",
    "    \"hamid\": [\"kalpache\", \"burger\", \"kookoo\"],\n",
    "    \"sara\": [\"pizza\", \"kookoo\"]\n",
    "}"
   ]
  },
  {
   "cell_type": "code",
   "execution_count": 45,
   "id": "d5eff88e",
   "metadata": {},
   "outputs": [
    {
     "name": "stdout",
     "output_type": "stream",
     "text": [
      "['kalpache', 'burger', 'kookoo']\n"
     ]
    }
   ],
   "source": [
    "print(favorite_foods[\"hamid\"])"
   ]
  },
  {
   "cell_type": "markdown",
   "id": "25f6742c",
   "metadata": {},
   "source": [
    "### Supermarket Sales Dataset"
   ]
  },
  {
   "cell_type": "code",
   "execution_count": 1,
   "id": "ef997d66",
   "metadata": {},
   "outputs": [],
   "source": [
    "# reading from file\n",
    "f = open('supermarket_sales - Sheet1.csv', 'r')\n",
    "\n",
    "# reading the lines of the file\n",
    "lines = f.readlines()"
   ]
  },
  {
   "cell_type": "code",
   "execution_count": 8,
   "id": "c57b3b68",
   "metadata": {},
   "outputs": [
    {
     "data": {
      "text/plain": [
       "['Invoice ID,Branch,City,Customer type,Gender,Product line,Unit price,Quantity,Tax 5%,Total,Date,Time,Payment,cogs,gross margin percentage,gross income,Rating\\n',\n",
       " '750-67-8428,A,Yangon,Member,Female,Health and beauty,74.69,7,26.1415,548.9715,1/5/2019,13:08,Ewallet,522.83,4.761904762,26.1415,9.1\\n',\n",
       " '226-31-3081,C,Naypyitaw,Normal,Female,Electronic accessories,15.28,5,3.82,80.22,3/8/2019,10:29,Cash,76.4,4.761904762,3.82,9.6\\n']"
      ]
     },
     "execution_count": 8,
     "metadata": {},
     "output_type": "execute_result"
    }
   ],
   "source": [
    "# printing the first 3 lines\n",
    "lines[:3]"
   ]
  },
  {
   "cell_type": "code",
   "execution_count": 15,
   "id": "0d762fe6",
   "metadata": {},
   "outputs": [
    {
     "data": {
      "text/plain": [
       "'Health and beauty'"
      ]
     },
     "execution_count": 15,
     "metadata": {},
     "output_type": "execute_result"
    }
   ],
   "source": [
    "# we have to split the lines using a delimeter\n",
    "lines[1].split(',')[5]"
   ]
  },
  {
   "cell_type": "code",
   "execution_count": 18,
   "id": "ec56b118",
   "metadata": {},
   "outputs": [
    {
     "data": {
      "text/plain": [
       "[('Female', 'Health and beauty'),\n",
       " ('Female', 'Electronic accessories'),\n",
       " ('Male', 'Home and lifestyle'),\n",
       " ('Male', 'Health and beauty'),\n",
       " ('Male', 'Sports and travel')]"
      ]
     },
     "execution_count": 18,
     "metadata": {},
     "output_type": "execute_result"
    }
   ],
   "source": [
    "# we only need the gender & product line columns for our purpose\n",
    "# note that we extract these columns in a list of tuples format\n",
    "data = []\n",
    "for line in lines[1:]:\n",
    "    cols = line.split(',')\n",
    "    data.append((cols[4], cols[5]))\n",
    "\n",
    "data[:5]"
   ]
  },
  {
   "cell_type": "code",
   "execution_count": 19,
   "id": "4245e6e1",
   "metadata": {},
   "outputs": [],
   "source": [
    "male_stats = {}\n",
    "female_stats = {}\n",
    "for d in data:\n",
    "    gender, p_line = d\n",
    "    if gender == 'Female':\n",
    "        if p_line in female_stats:\n",
    "            female_stats[p_line] += 1\n",
    "        else:\n",
    "            female_stats[p_line] = 1\n",
    "    elif gender == 'Male':\n",
    "        if p_line in male_stats:\n",
    "            male_stats[p_line] += 1\n",
    "        else:\n",
    "            male_stats[p_line] = 1\n"
   ]
  },
  {
   "cell_type": "code",
   "execution_count": 20,
   "id": "b33a5d9a",
   "metadata": {},
   "outputs": [
    {
     "data": {
      "text/plain": [
       "{'Home and lifestyle': 81,\n",
       " 'Health and beauty': 88,\n",
       " 'Sports and travel': 78,\n",
       " 'Electronic accessories': 86,\n",
       " 'Food and beverages': 84,\n",
       " 'Fashion accessories': 82}"
      ]
     },
     "execution_count": 20,
     "metadata": {},
     "output_type": "execute_result"
    }
   ],
   "source": [
    "male_stats"
   ]
  },
  {
   "cell_type": "code",
   "execution_count": 27,
   "id": "5ad933a9",
   "metadata": {},
   "outputs": [
    {
     "data": {
      "text/plain": [
       "[('Health and beauty', 88),\n",
       " ('Electronic accessories', 86),\n",
       " ('Food and beverages', 84),\n",
       " ('Fashion accessories', 82),\n",
       " ('Home and lifestyle', 81),\n",
       " ('Sports and travel', 78)]"
      ]
     },
     "execution_count": 27,
     "metadata": {},
     "output_type": "execute_result"
    }
   ],
   "source": [
    "# we can sort the above dict using python built-in function\n",
    "male_stats_sorted = sorted(male_stats.items(), key=lambda x: x[1], reverse=True)\n",
    "male_stats_sorted"
   ]
  },
  {
   "cell_type": "code",
   "execution_count": null,
   "id": "b8545cd3",
   "metadata": {},
   "outputs": [],
   "source": []
  }
 ],
 "metadata": {
  "kernelspec": {
   "display_name": "Python 3 (ipykernel)",
   "language": "python",
   "name": "python3"
  },
  "language_info": {
   "codemirror_mode": {
    "name": "ipython",
    "version": 3
   },
   "file_extension": ".py",
   "mimetype": "text/x-python",
   "name": "python",
   "nbconvert_exporter": "python",
   "pygments_lexer": "ipython3",
   "version": "3.8.10"
  }
 },
 "nbformat": 4,
 "nbformat_minor": 5
}
