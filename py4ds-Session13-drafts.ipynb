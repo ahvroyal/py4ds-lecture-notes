{
 "cells": [
  {
   "cell_type": "markdown",
   "id": "c625db16",
   "metadata": {},
   "source": [
    "## Session 13"
   ]
  },
  {
   "cell_type": "code",
   "execution_count": 4,
   "id": "43678c67",
   "metadata": {},
   "outputs": [],
   "source": [
    "import numpy as np\n",
    "import pandas as pd"
   ]
  },
  {
   "cell_type": "code",
   "execution_count": 5,
   "id": "a0e3ac2b",
   "metadata": {},
   "outputs": [],
   "source": [
    "names = ['hamid', 'sara', 'ali', 'reza']\n",
    "heights = np.array([173, 156, 161, 168])\n",
    "weights = np.array([76, 55, 81, 78])"
   ]
  },
  {
   "cell_type": "code",
   "execution_count": 6,
   "id": "f8c1f918",
   "metadata": {},
   "outputs": [
    {
     "data": {
      "text/plain": [
       "161"
      ]
     },
     "execution_count": 6,
     "metadata": {},
     "output_type": "execute_result"
    }
   ],
   "source": [
    "heights[2]"
   ]
  },
  {
   "cell_type": "code",
   "execution_count": 9,
   "id": "de3438bb",
   "metadata": {},
   "outputs": [
    {
     "data": {
      "text/plain": [
       "hamid    173\n",
       "sara     156\n",
       "ali      161\n",
       "reza     168\n",
       "dtype: int64"
      ]
     },
     "execution_count": 9,
     "metadata": {},
     "output_type": "execute_result"
    }
   ],
   "source": [
    "heights_series = pd.Series(data=[173, 156, 161, 168], index=names)\n",
    "heights_series"
   ]
  },
  {
   "cell_type": "code",
   "execution_count": 10,
   "id": "bfa79092",
   "metadata": {},
   "outputs": [
    {
     "data": {
      "text/plain": [
       "161"
      ]
     },
     "execution_count": 10,
     "metadata": {},
     "output_type": "execute_result"
    }
   ],
   "source": [
    "heights_series.loc['ali']"
   ]
  },
  {
   "cell_type": "code",
   "execution_count": 12,
   "id": "5d1942e1",
   "metadata": {},
   "outputs": [
    {
     "data": {
      "text/plain": [
       "hamid    76\n",
       "sara     55\n",
       "ali      81\n",
       "reza     78\n",
       "dtype: int64"
      ]
     },
     "execution_count": 12,
     "metadata": {},
     "output_type": "execute_result"
    }
   ],
   "source": [
    "weights_series = pd.Series(data=[76, 55, 81, 78], index=names)\n",
    "weights_series"
   ]
  },
  {
   "cell_type": "markdown",
   "id": "25432613",
   "metadata": {},
   "source": [
    "### index preservation"
   ]
  },
  {
   "cell_type": "code",
   "execution_count": 13,
   "id": "3dba3ddd",
   "metadata": {},
   "outputs": [],
   "source": [
    "# numpy preserve indexes during operations on Series and DataFrame"
   ]
  },
  {
   "cell_type": "code",
   "execution_count": 14,
   "id": "91f73397",
   "metadata": {},
   "outputs": [
    {
     "data": {
      "text/plain": [
       "hamid    183\n",
       "sara     166\n",
       "ali      171\n",
       "reza     178\n",
       "dtype: int64"
      ]
     },
     "execution_count": 14,
     "metadata": {},
     "output_type": "execute_result"
    }
   ],
   "source": [
    "heights_series + 10"
   ]
  },
  {
   "cell_type": "code",
   "execution_count": 15,
   "id": "49889175",
   "metadata": {},
   "outputs": [],
   "source": [
    "# calculating BMI"
   ]
  },
  {
   "cell_type": "code",
   "execution_count": 17,
   "id": "049b5c85",
   "metadata": {},
   "outputs": [
    {
     "data": {
      "text/plain": [
       "hamid    25.393431\n",
       "sara     22.600263\n",
       "ali      31.248794\n",
       "reza     27.636054\n",
       "dtype: float64"
      ]
     },
     "execution_count": 17,
     "metadata": {},
     "output_type": "execute_result"
    }
   ],
   "source": [
    "BMI = weights_series / ((heights_series*0.01)**2)\n",
    "BMI"
   ]
  },
  {
   "cell_type": "code",
   "execution_count": 18,
   "id": "35365758",
   "metadata": {},
   "outputs": [
    {
     "data": {
      "text/plain": [
       "pandas.core.series.Series"
      ]
     },
     "execution_count": 18,
     "metadata": {},
     "output_type": "execute_result"
    }
   ],
   "source": [
    "type(BMI)"
   ]
  },
  {
   "cell_type": "markdown",
   "id": "9e7f6576",
   "metadata": {},
   "source": [
    "### index alignment"
   ]
  },
  {
   "cell_type": "code",
   "execution_count": 19,
   "id": "02368618",
   "metadata": {},
   "outputs": [
    {
     "ename": "ValueError",
     "evalue": "operands could not be broadcast together with shapes (3,) (4,) ",
     "output_type": "error",
     "traceback": [
      "\u001b[0;31m---------------------------------------------------------------------------\u001b[0m",
      "\u001b[0;31mValueError\u001b[0m                                Traceback (most recent call last)",
      "Input \u001b[0;32mIn [19]\u001b[0m, in \u001b[0;36m<module>\u001b[0;34m\u001b[0m\n\u001b[1;32m      1\u001b[0m heights \u001b[38;5;241m=\u001b[39m np\u001b[38;5;241m.\u001b[39marray([\u001b[38;5;241m173\u001b[39m, \u001b[38;5;241m156\u001b[39m, \u001b[38;5;241m161\u001b[39m, \u001b[38;5;241m168\u001b[39m])\n\u001b[1;32m      2\u001b[0m weights \u001b[38;5;241m=\u001b[39m np\u001b[38;5;241m.\u001b[39marray([\u001b[38;5;241m76\u001b[39m, \u001b[38;5;241m55\u001b[39m, \u001b[38;5;241m78\u001b[39m])\n\u001b[0;32m----> 3\u001b[0m \u001b[43mweights\u001b[49m\u001b[43m \u001b[49m\u001b[38;5;241;43m/\u001b[39;49m\u001b[43m \u001b[49m\u001b[43m(\u001b[49m\u001b[43m(\u001b[49m\u001b[43mheights\u001b[49m\u001b[38;5;241;43m*\u001b[39;49m\u001b[38;5;241;43m0.01\u001b[39;49m\u001b[43m)\u001b[49m\u001b[38;5;241;43m*\u001b[39;49m\u001b[38;5;241;43m*\u001b[39;49m\u001b[38;5;241;43m2\u001b[39;49m\u001b[43m)\u001b[49m\n",
      "\u001b[0;31mValueError\u001b[0m: operands could not be broadcast together with shapes (3,) (4,) "
     ]
    }
   ],
   "source": [
    "heights = np.array([173, 156, 161, 168])\n",
    "weights = np.array([76, 55, 78])\n",
    "weights / ((heights*0.01)**2)"
   ]
  },
  {
   "cell_type": "code",
   "execution_count": 21,
   "id": "c18a2dd3",
   "metadata": {},
   "outputs": [],
   "source": [
    "names = ['hamid', 'sara', 'ali', 'reza']\n",
    "heights_series = pd.Series(data=[173, 156, 161, 168], index=['hamid', 'sara', 'ali', 'reza'])\n",
    "weights_series = pd.Series(data=[76, 55, 78], index=['hamid', 'sara', 'reza'])"
   ]
  },
  {
   "cell_type": "code",
   "execution_count": 22,
   "id": "c25f5403",
   "metadata": {},
   "outputs": [
    {
     "data": {
      "text/plain": [
       "hamid    173\n",
       "sara     156\n",
       "ali      161\n",
       "reza     168\n",
       "dtype: int64"
      ]
     },
     "execution_count": 22,
     "metadata": {},
     "output_type": "execute_result"
    }
   ],
   "source": [
    "heights_series"
   ]
  },
  {
   "cell_type": "code",
   "execution_count": 23,
   "id": "ba801b83",
   "metadata": {},
   "outputs": [
    {
     "data": {
      "text/plain": [
       "hamid    76\n",
       "sara     55\n",
       "reza     78\n",
       "dtype: int64"
      ]
     },
     "execution_count": 23,
     "metadata": {},
     "output_type": "execute_result"
    }
   ],
   "source": [
    "weights_series"
   ]
  },
  {
   "cell_type": "code",
   "execution_count": 24,
   "id": "86ccb3dc",
   "metadata": {},
   "outputs": [
    {
     "data": {
      "text/plain": [
       "ali            NaN\n",
       "hamid    25.393431\n",
       "reza     27.636054\n",
       "sara     22.600263\n",
       "dtype: float64"
      ]
     },
     "execution_count": 24,
     "metadata": {},
     "output_type": "execute_result"
    }
   ],
   "source": [
    "weights_series / ((heights_series*0.01)**2)"
   ]
  },
  {
   "cell_type": "markdown",
   "id": "cb60e033",
   "metadata": {},
   "source": [
    "### missing values"
   ]
  },
  {
   "cell_type": "code",
   "execution_count": 26,
   "id": "499b2c94",
   "metadata": {},
   "outputs": [],
   "source": [
    "# 2 different aspect of this problem\n",
    "# first storing and showing the missing values\n",
    "# second managing (placement and estimate) the missing values"
   ]
  },
  {
   "cell_type": "code",
   "execution_count": 29,
   "id": "c9506b15",
   "metadata": {},
   "outputs": [],
   "source": [
    "# there are 2 methods for first aspect (storing) :\n",
    "# mask\n",
    "# sentinel"
   ]
  },
  {
   "cell_type": "code",
   "execution_count": 31,
   "id": "0b909e8c",
   "metadata": {},
   "outputs": [],
   "source": [
    "# mask method\n",
    "temp = [32, 11, 0, 48, 0]\n",
    "missing = [False, False, True, False, False]"
   ]
  },
  {
   "cell_type": "code",
   "execution_count": 35,
   "id": "70570e46",
   "metadata": {},
   "outputs": [],
   "source": [
    "# sentinel method\n",
    "temp = [32, 11, None, 48, 0]\n",
    "# note that we must use integer number for missing value if we were dealing with integer array (for example : -128)\n",
    "# i.e. we can use None value if we have objects"
   ]
  },
  {
   "cell_type": "code",
   "execution_count": 43,
   "id": "74c6f54f",
   "metadata": {},
   "outputs": [],
   "source": [
    "# pandas uses sentinel method\n",
    "# note that sentinel value depends on array data type\n",
    "# for float --> NaN (can be used in caculations in contrast to None but the result will be NaN)\n",
    "# for object --> None\n",
    "# for int --> no sentinel value (error if missing value)\n",
    "# for String --> (string is also an object)"
   ]
  },
  {
   "cell_type": "code",
   "execution_count": 38,
   "id": "176838d0",
   "metadata": {},
   "outputs": [
    {
     "data": {
      "text/plain": [
       "0    32.0\n",
       "1    11.0\n",
       "2     NaN\n",
       "3    48.0\n",
       "4     0.0\n",
       "dtype: float64"
      ]
     },
     "execution_count": 38,
     "metadata": {},
     "output_type": "execute_result"
    }
   ],
   "source": [
    "a = pd.Series(data=temp, dtype='float64')\n",
    "a"
   ]
  },
  {
   "cell_type": "code",
   "execution_count": 39,
   "id": "38f43a87",
   "metadata": {},
   "outputs": [
    {
     "data": {
      "text/plain": [
       "0      32\n",
       "1      11\n",
       "2    None\n",
       "3      48\n",
       "4       0\n",
       "dtype: object"
      ]
     },
     "execution_count": 39,
     "metadata": {},
     "output_type": "execute_result"
    }
   ],
   "source": [
    "b = pd.Series(data=temp, dtype='object')\n",
    "b"
   ]
  },
  {
   "cell_type": "code",
   "execution_count": 41,
   "id": "fe60ebf2",
   "metadata": {},
   "outputs": [
    {
     "ename": "TypeError",
     "evalue": "int() argument must be a string, a bytes-like object or a number, not 'NoneType'",
     "output_type": "error",
     "traceback": [
      "\u001b[0;31m---------------------------------------------------------------------------\u001b[0m",
      "\u001b[0;31mTypeError\u001b[0m                                 Traceback (most recent call last)",
      "Input \u001b[0;32mIn [41]\u001b[0m, in \u001b[0;36m<module>\u001b[0;34m\u001b[0m\n\u001b[0;32m----> 1\u001b[0m c \u001b[38;5;241m=\u001b[39m \u001b[43mpd\u001b[49m\u001b[38;5;241;43m.\u001b[39;49m\u001b[43mSeries\u001b[49m\u001b[43m(\u001b[49m\u001b[43mdata\u001b[49m\u001b[38;5;241;43m=\u001b[39;49m\u001b[43mtemp\u001b[49m\u001b[43m,\u001b[49m\u001b[43m \u001b[49m\u001b[43mdtype\u001b[49m\u001b[38;5;241;43m=\u001b[39;49m\u001b[38;5;124;43m'\u001b[39;49m\u001b[38;5;124;43mint\u001b[39;49m\u001b[38;5;124;43m'\u001b[39;49m\u001b[43m)\u001b[49m\n\u001b[1;32m      2\u001b[0m c\n",
      "File \u001b[0;32m~/JupyterNotebook/jupyter_env/lib/python3.8/site-packages/pandas/core/series.py:451\u001b[0m, in \u001b[0;36mSeries.__init__\u001b[0;34m(self, data, index, dtype, name, copy, fastpath)\u001b[0m\n\u001b[1;32m    449\u001b[0m         data \u001b[38;5;241m=\u001b[39m data\u001b[38;5;241m.\u001b[39mcopy()\n\u001b[1;32m    450\u001b[0m \u001b[38;5;28;01melse\u001b[39;00m:\n\u001b[0;32m--> 451\u001b[0m     data \u001b[38;5;241m=\u001b[39m \u001b[43msanitize_array\u001b[49m\u001b[43m(\u001b[49m\u001b[43mdata\u001b[49m\u001b[43m,\u001b[49m\u001b[43m \u001b[49m\u001b[43mindex\u001b[49m\u001b[43m,\u001b[49m\u001b[43m \u001b[49m\u001b[43mdtype\u001b[49m\u001b[43m,\u001b[49m\u001b[43m \u001b[49m\u001b[43mcopy\u001b[49m\u001b[43m)\u001b[49m\n\u001b[1;32m    453\u001b[0m     manager \u001b[38;5;241m=\u001b[39m get_option(\u001b[38;5;124m\"\u001b[39m\u001b[38;5;124mmode.data_manager\u001b[39m\u001b[38;5;124m\"\u001b[39m)\n\u001b[1;32m    454\u001b[0m     \u001b[38;5;28;01mif\u001b[39;00m manager \u001b[38;5;241m==\u001b[39m \u001b[38;5;124m\"\u001b[39m\u001b[38;5;124mblock\u001b[39m\u001b[38;5;124m\"\u001b[39m:\n",
      "File \u001b[0;32m~/JupyterNotebook/jupyter_env/lib/python3.8/site-packages/pandas/core/construction.py:591\u001b[0m, in \u001b[0;36msanitize_array\u001b[0;34m(data, index, dtype, copy, raise_cast_failure, allow_2d)\u001b[0m\n\u001b[1;32m    588\u001b[0m     data \u001b[38;5;241m=\u001b[39m \u001b[38;5;28mlist\u001b[39m(data)\n\u001b[1;32m    590\u001b[0m \u001b[38;5;28;01mif\u001b[39;00m dtype \u001b[38;5;129;01mis\u001b[39;00m \u001b[38;5;129;01mnot\u001b[39;00m \u001b[38;5;28;01mNone\u001b[39;00m \u001b[38;5;129;01mor\u001b[39;00m \u001b[38;5;28mlen\u001b[39m(data) \u001b[38;5;241m==\u001b[39m \u001b[38;5;241m0\u001b[39m:\n\u001b[0;32m--> 591\u001b[0m     subarr \u001b[38;5;241m=\u001b[39m \u001b[43m_try_cast\u001b[49m\u001b[43m(\u001b[49m\u001b[43mdata\u001b[49m\u001b[43m,\u001b[49m\u001b[43m \u001b[49m\u001b[43mdtype\u001b[49m\u001b[43m,\u001b[49m\u001b[43m \u001b[49m\u001b[43mcopy\u001b[49m\u001b[43m,\u001b[49m\u001b[43m \u001b[49m\u001b[43mraise_cast_failure\u001b[49m\u001b[43m)\u001b[49m\n\u001b[1;32m    592\u001b[0m \u001b[38;5;28;01melse\u001b[39;00m:\n\u001b[1;32m    593\u001b[0m     subarr \u001b[38;5;241m=\u001b[39m maybe_convert_platform(data)\n",
      "File \u001b[0;32m~/JupyterNotebook/jupyter_env/lib/python3.8/site-packages/pandas/core/construction.py:776\u001b[0m, in \u001b[0;36m_try_cast\u001b[0;34m(arr, dtype, copy, raise_cast_failure)\u001b[0m\n\u001b[1;32m    770\u001b[0m \u001b[38;5;28;01mtry\u001b[39;00m:\n\u001b[1;32m    771\u001b[0m     \u001b[38;5;66;03m# GH#15832: Check if we are requesting a numeric dtype and\u001b[39;00m\n\u001b[1;32m    772\u001b[0m     \u001b[38;5;66;03m# that we can convert the data to the requested dtype.\u001b[39;00m\n\u001b[1;32m    773\u001b[0m     \u001b[38;5;28;01mif\u001b[39;00m is_integer_dtype(dtype):\n\u001b[1;32m    774\u001b[0m         \u001b[38;5;66;03m# this will raise if we have e.g. floats\u001b[39;00m\n\u001b[0;32m--> 776\u001b[0m         subarr \u001b[38;5;241m=\u001b[39m \u001b[43mmaybe_cast_to_integer_array\u001b[49m\u001b[43m(\u001b[49m\u001b[43marr\u001b[49m\u001b[43m,\u001b[49m\u001b[43m \u001b[49m\u001b[43mdtype\u001b[49m\u001b[43m)\u001b[49m\n\u001b[1;32m    777\u001b[0m     \u001b[38;5;28;01melse\u001b[39;00m:\n\u001b[1;32m    778\u001b[0m         \u001b[38;5;66;03m# 4 tests fail if we move this to a try/except/else; see\u001b[39;00m\n\u001b[1;32m    779\u001b[0m         \u001b[38;5;66;03m#  test_constructor_compound_dtypes, test_constructor_cast_failure\u001b[39;00m\n\u001b[1;32m    780\u001b[0m         \u001b[38;5;66;03m#  test_constructor_dict_cast2, test_loc_setitem_dtype\u001b[39;00m\n\u001b[1;32m    781\u001b[0m         subarr \u001b[38;5;241m=\u001b[39m np\u001b[38;5;241m.\u001b[39marray(arr, dtype\u001b[38;5;241m=\u001b[39mdtype, copy\u001b[38;5;241m=\u001b[39mcopy)\n",
      "File \u001b[0;32m~/JupyterNotebook/jupyter_env/lib/python3.8/site-packages/pandas/core/dtypes/cast.py:2031\u001b[0m, in \u001b[0;36mmaybe_cast_to_integer_array\u001b[0;34m(arr, dtype, copy)\u001b[0m\n\u001b[1;32m   2029\u001b[0m \u001b[38;5;28;01mtry\u001b[39;00m:\n\u001b[1;32m   2030\u001b[0m     \u001b[38;5;28;01mif\u001b[39;00m \u001b[38;5;129;01mnot\u001b[39;00m \u001b[38;5;28misinstance\u001b[39m(arr, np\u001b[38;5;241m.\u001b[39mndarray):\n\u001b[0;32m-> 2031\u001b[0m         casted \u001b[38;5;241m=\u001b[39m \u001b[43mnp\u001b[49m\u001b[38;5;241;43m.\u001b[39;49m\u001b[43marray\u001b[49m\u001b[43m(\u001b[49m\u001b[43marr\u001b[49m\u001b[43m,\u001b[49m\u001b[43m \u001b[49m\u001b[43mdtype\u001b[49m\u001b[38;5;241;43m=\u001b[39;49m\u001b[43mdtype\u001b[49m\u001b[43m,\u001b[49m\u001b[43m \u001b[49m\u001b[43mcopy\u001b[49m\u001b[38;5;241;43m=\u001b[39;49m\u001b[43mcopy\u001b[49m\u001b[43m)\u001b[49m\n\u001b[1;32m   2032\u001b[0m     \u001b[38;5;28;01melse\u001b[39;00m:\n\u001b[1;32m   2033\u001b[0m         casted \u001b[38;5;241m=\u001b[39m arr\u001b[38;5;241m.\u001b[39mastype(dtype, copy\u001b[38;5;241m=\u001b[39mcopy)\n",
      "\u001b[0;31mTypeError\u001b[0m: int() argument must be a string, a bytes-like object or a number, not 'NoneType'"
     ]
    }
   ],
   "source": [
    "c = pd.Series(data=temp, dtype='int')\n",
    "c"
   ]
  },
  {
   "cell_type": "code",
   "execution_count": 46,
   "id": "d8b9a49b",
   "metadata": {},
   "outputs": [
    {
     "data": {
      "text/plain": [
       "0     aaa\n",
       "1     bbb\n",
       "2    None\n",
       "3     ccc\n",
       "dtype: object"
      ]
     },
     "execution_count": 46,
     "metadata": {},
     "output_type": "execute_result"
    }
   ],
   "source": [
    "d = pd.Series(data=['aaa', 'bbb', 'None', 'ccc'])\n",
    "d"
   ]
  },
  {
   "cell_type": "code",
   "execution_count": 48,
   "id": "7ab88574",
   "metadata": {},
   "outputs": [
    {
     "data": {
      "text/plain": [
       "0    32.0\n",
       "1    11.0\n",
       "2     NaN\n",
       "3    48.0\n",
       "4     0.0\n",
       "dtype: float64"
      ]
     },
     "execution_count": 48,
     "metadata": {},
     "output_type": "execute_result"
    }
   ],
   "source": [
    "# note that if we have integer data, and don't provide data type,\n",
    "# pandas automatically cast it to float to use NaN for missing values\n",
    "e = pd.Series(data=[32, 11, None, 48, 0])\n",
    "e"
   ]
  },
  {
   "cell_type": "code",
   "execution_count": 50,
   "id": "8b5c9da3",
   "metadata": {},
   "outputs": [
    {
     "data": {
      "text/plain": [
       "0.30000000000000004"
      ]
     },
     "execution_count": 50,
     "metadata": {},
     "output_type": "execute_result"
    }
   ],
   "source": [
    "# but it's not always practical to cast int to float, because int is more accurate than float\n",
    "# one example is below calculation :\n",
    "0.2 + 0.1"
   ]
  },
  {
   "cell_type": "code",
   "execution_count": 51,
   "id": "41528534",
   "metadata": {},
   "outputs": [
    {
     "data": {
      "text/plain": [
       "0    1\n",
       "1    3\n",
       "2    2\n",
       "3    5\n",
       "dtype: object"
      ]
     },
     "execution_count": 51,
     "metadata": {},
     "output_type": "execute_result"
    }
   ],
   "source": [
    "x = pd.Series(data=[1, 3, 2, 5], dtype='object')\n",
    "x"
   ]
  },
  {
   "cell_type": "code",
   "execution_count": 52,
   "id": "e61877c5",
   "metadata": {},
   "outputs": [
    {
     "data": {
      "text/plain": [
       "0    1\n",
       "1    3\n",
       "2    2\n",
       "3    5\n",
       "dtype: int64"
      ]
     },
     "execution_count": 52,
     "metadata": {},
     "output_type": "execute_result"
    }
   ],
   "source": [
    "y = pd.Series(data=[1, 3, 2, 5], dtype='int')\n",
    "y"
   ]
  },
  {
   "cell_type": "code",
   "execution_count": null,
   "id": "7f7a1794",
   "metadata": {},
   "outputs": [],
   "source": [
    "# if int does not support sentinel, why don't we use objects instead of ints ?"
   ]
  },
  {
   "cell_type": "code",
   "execution_count": 54,
   "id": "aac934c5",
   "metadata": {},
   "outputs": [
    {
     "data": {
      "text/plain": [
       "0    2\n",
       "1    4\n",
       "2    3\n",
       "3    6\n",
       "dtype: object"
      ]
     },
     "execution_count": 54,
     "metadata": {},
     "output_type": "execute_result"
    }
   ],
   "source": [
    "# we can have mathematical calculation with objects\n",
    "x + 1"
   ]
  },
  {
   "cell_type": "code",
   "execution_count": 63,
   "id": "5eb6b6a2",
   "metadata": {},
   "outputs": [],
   "source": [
    "# it's because of performance with int type, as it's processor native type and operation on them happens\n",
    "# very quickly in comparison to objects which uses much more time and space to operate on.\n",
    "# let's see an example for that :"
   ]
  },
  {
   "cell_type": "code",
   "execution_count": 57,
   "id": "28d51b84",
   "metadata": {},
   "outputs": [
    {
     "data": {
      "text/plain": [
       "0          0\n",
       "1          1\n",
       "2          2\n",
       "3          3\n",
       "4          4\n",
       "        ... \n",
       "9995    9995\n",
       "9996    9996\n",
       "9997    9997\n",
       "9998    9998\n",
       "9999    9999\n",
       "Length: 10000, dtype: object"
      ]
     },
     "execution_count": 57,
     "metadata": {},
     "output_type": "execute_result"
    }
   ],
   "source": [
    "x = pd.Series(data=range(10000), dtype='object')\n",
    "x"
   ]
  },
  {
   "cell_type": "code",
   "execution_count": 58,
   "id": "a0273e21",
   "metadata": {},
   "outputs": [
    {
     "data": {
      "text/plain": [
       "0          0\n",
       "1          1\n",
       "2          2\n",
       "3          3\n",
       "4          4\n",
       "        ... \n",
       "9995    9995\n",
       "9996    9996\n",
       "9997    9997\n",
       "9998    9998\n",
       "9999    9999\n",
       "Length: 10000, dtype: int64"
      ]
     },
     "execution_count": 58,
     "metadata": {},
     "output_type": "execute_result"
    }
   ],
   "source": [
    "y = pd.Series(data=range(10000), dtype='int')\n",
    "y"
   ]
  },
  {
   "cell_type": "code",
   "execution_count": 61,
   "id": "773c0c42",
   "metadata": {},
   "outputs": [
    {
     "name": "stdout",
     "output_type": "stream",
     "text": [
      "890 µs ± 20.2 µs per loop (mean ± std. dev. of 7 runs, 1,000 loops each)\n"
     ]
    }
   ],
   "source": [
    "%timeit x.sum()"
   ]
  },
  {
   "cell_type": "code",
   "execution_count": 62,
   "id": "5f1a06e6",
   "metadata": {},
   "outputs": [
    {
     "name": "stdout",
     "output_type": "stream",
     "text": [
      "62.4 µs ± 4.7 µs per loop (mean ± std. dev. of 7 runs, 10,000 loops each)\n"
     ]
    }
   ],
   "source": [
    "%timeit y.sum()"
   ]
  },
  {
   "cell_type": "code",
   "execution_count": 64,
   "id": "205b588e",
   "metadata": {},
   "outputs": [],
   "source": [
    "# as you see calculations on int data type done so much faster"
   ]
  },
  {
   "cell_type": "code",
   "execution_count": 65,
   "id": "cac77738",
   "metadata": {},
   "outputs": [],
   "source": [
    "# second aspect of missing values problem : \n",
    "# managing (placement and estimate) the missing values"
   ]
  },
  {
   "cell_type": "code",
   "execution_count": 66,
   "id": "3b55cadc",
   "metadata": {},
   "outputs": [],
   "source": [
    "names = ['hamid', 'sara', 'ali', 'reza', 'nahid', 'saeed']\n",
    "heights = pd.Series(data=[173, 156, 161, None, 168, 180], index=names, dtype='float64')\n",
    "weights = pd.Series(data=[76, None, 81, 78, 49, 80], index=names)"
   ]
  },
  {
   "cell_type": "code",
   "execution_count": 67,
   "id": "5493da8c",
   "metadata": {},
   "outputs": [
    {
     "data": {
      "text/plain": [
       "hamid    173.0\n",
       "sara     156.0\n",
       "ali      161.0\n",
       "reza       NaN\n",
       "nahid    168.0\n",
       "saeed    180.0\n",
       "dtype: float64"
      ]
     },
     "execution_count": 67,
     "metadata": {},
     "output_type": "execute_result"
    }
   ],
   "source": [
    "heights"
   ]
  },
  {
   "cell_type": "code",
   "execution_count": 68,
   "id": "8590d33a",
   "metadata": {},
   "outputs": [
    {
     "data": {
      "text/plain": [
       "hamid    76.0\n",
       "sara      NaN\n",
       "ali      81.0\n",
       "reza     78.0\n",
       "nahid    49.0\n",
       "saeed    80.0\n",
       "dtype: float64"
      ]
     },
     "execution_count": 68,
     "metadata": {},
     "output_type": "execute_result"
    }
   ],
   "source": [
    "weights"
   ]
  },
  {
   "cell_type": "code",
   "execution_count": 69,
   "id": "13caf41e",
   "metadata": {},
   "outputs": [
    {
     "data": {
      "text/html": [
       "<div>\n",
       "<style scoped>\n",
       "    .dataframe tbody tr th:only-of-type {\n",
       "        vertical-align: middle;\n",
       "    }\n",
       "\n",
       "    .dataframe tbody tr th {\n",
       "        vertical-align: top;\n",
       "    }\n",
       "\n",
       "    .dataframe thead th {\n",
       "        text-align: right;\n",
       "    }\n",
       "</style>\n",
       "<table border=\"1\" class=\"dataframe\">\n",
       "  <thead>\n",
       "    <tr style=\"text-align: right;\">\n",
       "      <th></th>\n",
       "      <th>height</th>\n",
       "      <th>weight</th>\n",
       "    </tr>\n",
       "  </thead>\n",
       "  <tbody>\n",
       "    <tr>\n",
       "      <th>hamid</th>\n",
       "      <td>173.0</td>\n",
       "      <td>76.0</td>\n",
       "    </tr>\n",
       "    <tr>\n",
       "      <th>sara</th>\n",
       "      <td>156.0</td>\n",
       "      <td>NaN</td>\n",
       "    </tr>\n",
       "    <tr>\n",
       "      <th>ali</th>\n",
       "      <td>161.0</td>\n",
       "      <td>81.0</td>\n",
       "    </tr>\n",
       "    <tr>\n",
       "      <th>reza</th>\n",
       "      <td>NaN</td>\n",
       "      <td>78.0</td>\n",
       "    </tr>\n",
       "    <tr>\n",
       "      <th>nahid</th>\n",
       "      <td>168.0</td>\n",
       "      <td>49.0</td>\n",
       "    </tr>\n",
       "    <tr>\n",
       "      <th>saeed</th>\n",
       "      <td>180.0</td>\n",
       "      <td>80.0</td>\n",
       "    </tr>\n",
       "  </tbody>\n",
       "</table>\n",
       "</div>"
      ],
      "text/plain": [
       "       height  weight\n",
       "hamid   173.0    76.0\n",
       "sara    156.0     NaN\n",
       "ali     161.0    81.0\n",
       "reza      NaN    78.0\n",
       "nahid   168.0    49.0\n",
       "saeed   180.0    80.0"
      ]
     },
     "execution_count": 69,
     "metadata": {},
     "output_type": "execute_result"
    }
   ],
   "source": [
    "df = pd.DataFrame(data={'height': heights, 'weight': weights})\n",
    "df"
   ]
  },
  {
   "cell_type": "code",
   "execution_count": 70,
   "id": "ea66982b",
   "metadata": {},
   "outputs": [
    {
     "data": {
      "text/plain": [
       "hamid    25.393431\n",
       "sara           NaN\n",
       "ali      31.248794\n",
       "reza           NaN\n",
       "nahid    17.361111\n",
       "saeed    24.691358\n",
       "dtype: float64"
      ]
     },
     "execution_count": 70,
     "metadata": {},
     "output_type": "execute_result"
    }
   ],
   "source": [
    "weights / ((heights*0.01)**2)"
   ]
  },
  {
   "cell_type": "code",
   "execution_count": 76,
   "id": "80ef0317",
   "metadata": {},
   "outputs": [
    {
     "data": {
      "text/plain": [
       "hamid    173.0\n",
       "sara     156.0\n",
       "ali      161.0\n",
       "reza     161.0\n",
       "nahid    168.0\n",
       "saeed    180.0\n",
       "dtype: float64"
      ]
     },
     "execution_count": 76,
     "metadata": {},
     "output_type": "execute_result"
    }
   ],
   "source": [
    "heights.ffill() # forward fill (puts the value of item before NaN in place of NaN)\n",
    "                # altough it's not a good solution here"
   ]
  },
  {
   "cell_type": "code",
   "execution_count": 78,
   "id": "6d36ddeb",
   "metadata": {},
   "outputs": [
    {
     "data": {
      "text/plain": [
       "hamid    173.0\n",
       "sara     156.0\n",
       "ali      161.0\n",
       "reza     168.0\n",
       "nahid    168.0\n",
       "saeed    180.0\n",
       "dtype: float64"
      ]
     },
     "execution_count": 78,
     "metadata": {},
     "output_type": "execute_result"
    }
   ],
   "source": [
    "heights.bfill() # backward fill (puts the value of item ahead of NaN in place of NaN)\n",
    "                # altough it's not a good solution here"
   ]
  },
  {
   "cell_type": "code",
   "execution_count": 79,
   "id": "908e44fe",
   "metadata": {},
   "outputs": [
    {
     "data": {
      "text/plain": [
       "hamid    173.0\n",
       "sara     156.0\n",
       "ali      161.0\n",
       "reza     170.0\n",
       "nahid    168.0\n",
       "saeed    180.0\n",
       "dtype: float64"
      ]
     },
     "execution_count": 79,
     "metadata": {},
     "output_type": "execute_result"
    }
   ],
   "source": [
    "heights.fillna(170) # fills the missing values with provided value"
   ]
  },
  {
   "cell_type": "code",
   "execution_count": 82,
   "id": "cde7f25f",
   "metadata": {},
   "outputs": [
    {
     "data": {
      "text/html": [
       "<div>\n",
       "<style scoped>\n",
       "    .dataframe tbody tr th:only-of-type {\n",
       "        vertical-align: middle;\n",
       "    }\n",
       "\n",
       "    .dataframe tbody tr th {\n",
       "        vertical-align: top;\n",
       "    }\n",
       "\n",
       "    .dataframe thead th {\n",
       "        text-align: right;\n",
       "    }\n",
       "</style>\n",
       "<table border=\"1\" class=\"dataframe\">\n",
       "  <thead>\n",
       "    <tr style=\"text-align: right;\">\n",
       "      <th></th>\n",
       "      <th>height</th>\n",
       "      <th>weight</th>\n",
       "    </tr>\n",
       "  </thead>\n",
       "  <tbody>\n",
       "    <tr>\n",
       "      <th>hamid</th>\n",
       "      <td>173.0</td>\n",
       "      <td>76.0</td>\n",
       "    </tr>\n",
       "    <tr>\n",
       "      <th>sara</th>\n",
       "      <td>156.0</td>\n",
       "      <td>NaN</td>\n",
       "    </tr>\n",
       "    <tr>\n",
       "      <th>ali</th>\n",
       "      <td>161.0</td>\n",
       "      <td>81.0</td>\n",
       "    </tr>\n",
       "    <tr>\n",
       "      <th>reza</th>\n",
       "      <td>NaN</td>\n",
       "      <td>78.0</td>\n",
       "    </tr>\n",
       "    <tr>\n",
       "      <th>nahid</th>\n",
       "      <td>168.0</td>\n",
       "      <td>49.0</td>\n",
       "    </tr>\n",
       "    <tr>\n",
       "      <th>saeed</th>\n",
       "      <td>180.0</td>\n",
       "      <td>80.0</td>\n",
       "    </tr>\n",
       "  </tbody>\n",
       "</table>\n",
       "</div>"
      ],
      "text/plain": [
       "       height  weight\n",
       "hamid   173.0    76.0\n",
       "sara    156.0     NaN\n",
       "ali     161.0    81.0\n",
       "reza      NaN    78.0\n",
       "nahid   168.0    49.0\n",
       "saeed   180.0    80.0"
      ]
     },
     "execution_count": 82,
     "metadata": {},
     "output_type": "execute_result"
    }
   ],
   "source": [
    "df"
   ]
  },
  {
   "cell_type": "code",
   "execution_count": 80,
   "id": "67907e0c",
   "metadata": {},
   "outputs": [],
   "source": [
    "from sklearn.impute import KNNImputer"
   ]
  },
  {
   "cell_type": "code",
   "execution_count": 85,
   "id": "37891037",
   "metadata": {},
   "outputs": [
    {
     "data": {
      "text/plain": [
       "array([[173. ,  76. ],\n",
       "       [156. ,  65. ],\n",
       "       [161. ,  81. ],\n",
       "       [176.5,  78. ],\n",
       "       [168. ,  49. ],\n",
       "       [180. ,  80. ]])"
      ]
     },
     "execution_count": 85,
     "metadata": {},
     "output_type": "execute_result"
    }
   ],
   "source": [
    "imputer = KNNImputer(n_neighbors=2)\n",
    "imputer.fit_transform(df)\n",
    "# estimates and place the missing value from average value of it's K nearest neighbors which calculated\n",
    "# based on euclidean distance."
   ]
  },
  {
   "cell_type": "code",
   "execution_count": null,
   "id": "d97fe824",
   "metadata": {},
   "outputs": [],
   "source": []
  }
 ],
 "metadata": {
  "kernelspec": {
   "display_name": "Python 3 (ipykernel)",
   "language": "python",
   "name": "python3"
  },
  "language_info": {
   "codemirror_mode": {
    "name": "ipython",
    "version": 3
   },
   "file_extension": ".py",
   "mimetype": "text/x-python",
   "name": "python",
   "nbconvert_exporter": "python",
   "pygments_lexer": "ipython3",
   "version": "3.8.10"
  }
 },
 "nbformat": 4,
 "nbformat_minor": 5
}
