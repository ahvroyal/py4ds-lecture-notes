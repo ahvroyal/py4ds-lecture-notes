{
 "cells": [
  {
   "cell_type": "markdown",
   "id": "11a546d4",
   "metadata": {},
   "source": [
    "## Session 10 (numpy part f)"
   ]
  },
  {
   "cell_type": "code",
   "execution_count": 2,
   "id": "db16a4be",
   "metadata": {},
   "outputs": [],
   "source": [
    "import numpy as np"
   ]
  },
  {
   "cell_type": "code",
   "execution_count": 3,
   "id": "6eb85e85",
   "metadata": {},
   "outputs": [],
   "source": [
    "a = np.array([1, 4, 7, 3, 1, 2])"
   ]
  },
  {
   "cell_type": "code",
   "execution_count": 4,
   "id": "bd0eab8f",
   "metadata": {},
   "outputs": [
    {
     "data": {
      "text/plain": [
       "7"
      ]
     },
     "execution_count": 4,
     "metadata": {},
     "output_type": "execute_result"
    }
   ],
   "source": [
    "np.max(a)"
   ]
  },
  {
   "cell_type": "code",
   "execution_count": 5,
   "id": "7c84d108",
   "metadata": {},
   "outputs": [
    {
     "data": {
      "text/plain": [
       "2"
      ]
     },
     "execution_count": 5,
     "metadata": {},
     "output_type": "execute_result"
    }
   ],
   "source": [
    "np.argmax(a)"
   ]
  },
  {
   "cell_type": "code",
   "execution_count": 6,
   "id": "d0bc9450",
   "metadata": {},
   "outputs": [
    {
     "data": {
      "text/plain": [
       "0"
      ]
     },
     "execution_count": 6,
     "metadata": {},
     "output_type": "execute_result"
    }
   ],
   "source": [
    "np.argmin(a)"
   ]
  },
  {
   "cell_type": "code",
   "execution_count": 8,
   "id": "c8f6f0cd",
   "metadata": {},
   "outputs": [
    {
     "data": {
      "text/plain": [
       "array([[18, 16, 10, 15],\n",
       "       [11, 15, 17, 10],\n",
       "       [13, 12, 11, 15]])"
      ]
     },
     "execution_count": 8,
     "metadata": {},
     "output_type": "execute_result"
    }
   ],
   "source": [
    "b = np.random.randint(10, 20, size=(3, 4))\n",
    "b"
   ]
  },
  {
   "cell_type": "code",
   "execution_count": 9,
   "id": "991290ab",
   "metadata": {},
   "outputs": [
    {
     "data": {
      "text/plain": [
       "0"
      ]
     },
     "execution_count": 9,
     "metadata": {},
     "output_type": "execute_result"
    }
   ],
   "source": [
    "np.argmax(b)"
   ]
  },
  {
   "cell_type": "code",
   "execution_count": 10,
   "id": "b01a0806",
   "metadata": {},
   "outputs": [
    {
     "data": {
      "text/plain": [
       "array([0, 2, 3])"
      ]
     },
     "execution_count": 10,
     "metadata": {},
     "output_type": "execute_result"
    }
   ],
   "source": [
    "np.argmax(b, axis=1)"
   ]
  },
  {
   "cell_type": "code",
   "execution_count": 11,
   "id": "298f1c3a",
   "metadata": {},
   "outputs": [
    {
     "data": {
      "text/plain": [
       "array([0, 0, 1, 0])"
      ]
     },
     "execution_count": 11,
     "metadata": {},
     "output_type": "execute_result"
    }
   ],
   "source": [
    "np.argmax(b, axis=0)"
   ]
  },
  {
   "cell_type": "markdown",
   "id": "a8f31a31",
   "metadata": {},
   "source": [
    "### sorting arrays"
   ]
  },
  {
   "cell_type": "code",
   "execution_count": 12,
   "id": "6e1b748e",
   "metadata": {},
   "outputs": [
    {
     "data": {
      "text/plain": [
       "array([1, 4, 7, 3, 1, 2])"
      ]
     },
     "execution_count": 12,
     "metadata": {},
     "output_type": "execute_result"
    }
   ],
   "source": [
    "a"
   ]
  },
  {
   "cell_type": "code",
   "execution_count": 15,
   "id": "45adf063",
   "metadata": {},
   "outputs": [
    {
     "data": {
      "text/plain": [
       "array([1, 1, 2, 3, 4, 7])"
      ]
     },
     "execution_count": 15,
     "metadata": {},
     "output_type": "execute_result"
    }
   ],
   "source": [
    "np.sort(a)"
   ]
  },
  {
   "cell_type": "code",
   "execution_count": 16,
   "id": "69bc4276",
   "metadata": {},
   "outputs": [
    {
     "data": {
      "text/plain": [
       "array([0, 4, 5, 3, 1, 2])"
      ]
     },
     "execution_count": 16,
     "metadata": {},
     "output_type": "execute_result"
    }
   ],
   "source": [
    "np.argsort(a)"
   ]
  },
  {
   "cell_type": "markdown",
   "id": "b22eb58f",
   "metadata": {},
   "source": [
    "### applying a function over array elements"
   ]
  },
  {
   "cell_type": "code",
   "execution_count": 18,
   "id": "8bf22cda",
   "metadata": {},
   "outputs": [
    {
     "data": {
      "text/plain": [
       "array([2, 5, 8, 4, 2, 3])"
      ]
     },
     "execution_count": 18,
     "metadata": {},
     "output_type": "execute_result"
    }
   ],
   "source": [
    "a + 1"
   ]
  },
  {
   "cell_type": "code",
   "execution_count": 20,
   "id": "94cfd18b",
   "metadata": {},
   "outputs": [
    {
     "data": {
      "text/plain": [
       "array([2., 5., 8., 4., 2., 3.])"
      ]
     },
     "execution_count": 20,
     "metadata": {},
     "output_type": "execute_result"
    }
   ],
   "source": [
    "result = np.zeros(a.shape)\n",
    "for i, x in enumerate(a):\n",
    "    result[i] = x + 1\n",
    "    \n",
    "result    "
   ]
  },
  {
   "cell_type": "code",
   "execution_count": 23,
   "id": "b5656103",
   "metadata": {},
   "outputs": [
    {
     "data": {
      "text/plain": [
       "array([2, 5, 8, 4, 2, 3])"
      ]
     },
     "execution_count": 23,
     "metadata": {},
     "output_type": "execute_result"
    }
   ],
   "source": [
    "def f(x):\n",
    "    return x+1\n",
    "\n",
    "np.apply_along_axis(f, 0, a)"
   ]
  },
  {
   "cell_type": "code",
   "execution_count": 24,
   "id": "12504018",
   "metadata": {},
   "outputs": [
    {
     "data": {
      "text/plain": [
       "array([ 2,  8, 14,  6,  2,  4])"
      ]
     },
     "execution_count": 24,
     "metadata": {},
     "output_type": "execute_result"
    }
   ],
   "source": [
    "np.apply_along_axis(lambda x: x*2, 0, a)"
   ]
  },
  {
   "cell_type": "markdown",
   "id": "48aa42f8",
   "metadata": {},
   "source": [
    "### rolling (sliding) window operations"
   ]
  },
  {
   "attachments": {
    "Screenshot%20from%202022-06-14%2010-04-13.png": {
     "image/png": "[encoded data removed]"
    }
   },
   "cell_type": "markdown",
   "id": "b7906812",
   "metadata": {},
   "source": [
    "![Screenshot%20from%202022-06-14%2010-04-13.png](attachment:Screenshot%20from%202022-06-14%2010-04-13.png)"
   ]
  },
  {
   "cell_type": "code",
   "execution_count": 25,
   "id": "300fc8d0",
   "metadata": {},
   "outputs": [],
   "source": [
    "from numpy.lib.stride_tricks import sliding_window_view"
   ]
  },
  {
   "cell_type": "code",
   "execution_count": 26,
   "id": "cbb4fd60",
   "metadata": {},
   "outputs": [],
   "source": [
    "d = np.array([1, 3, 1, 5, 2, 7, 3, 4])"
   ]
  },
  {
   "cell_type": "code",
   "execution_count": 28,
   "id": "e920ff3c",
   "metadata": {},
   "outputs": [
    {
     "data": {
      "text/plain": [
       "array([[1, 3, 1],\n",
       "       [3, 1, 5],\n",
       "       [1, 5, 2],\n",
       "       [5, 2, 7],\n",
       "       [2, 7, 3],\n",
       "       [7, 3, 4]])"
      ]
     },
     "execution_count": 28,
     "metadata": {},
     "output_type": "execute_result"
    }
   ],
   "source": [
    "wd = sliding_window_view(d, window_shape=3)\n",
    "wd"
   ]
  },
  {
   "cell_type": "code",
   "execution_count": 29,
   "id": "f591a429",
   "metadata": {},
   "outputs": [
    {
     "data": {
      "text/plain": [
       "array([ 5,  9,  8, 14, 12, 14])"
      ]
     },
     "execution_count": 29,
     "metadata": {},
     "output_type": "execute_result"
    }
   ],
   "source": [
    "np.sum(wd, axis=1)"
   ]
  },
  {
   "cell_type": "code",
   "execution_count": 30,
   "id": "3c05f9bb",
   "metadata": {},
   "outputs": [
    {
     "data": {
      "text/plain": [
       "array([19, 21, 22])"
      ]
     },
     "execution_count": 30,
     "metadata": {},
     "output_type": "execute_result"
    }
   ],
   "source": [
    "np.sum(wd, axis=0)"
   ]
  },
  {
   "cell_type": "code",
   "execution_count": 31,
   "id": "2bc655e3",
   "metadata": {},
   "outputs": [
    {
     "data": {
      "text/plain": [
       "62"
      ]
     },
     "execution_count": 31,
     "metadata": {},
     "output_type": "execute_result"
    }
   ],
   "source": [
    "np.sum(wd)"
   ]
  },
  {
   "cell_type": "markdown",
   "id": "404594d4",
   "metadata": {},
   "source": [
    "### brent oil daily price example"
   ]
  },
  {
   "cell_type": "code",
   "execution_count": 76,
   "id": "69f34afc",
   "metadata": {},
   "outputs": [],
   "source": [
    "%matplotlib notebook\n",
    "import pandas as pd\n",
    "import matplotlib.pyplot as plt"
   ]
  },
  {
   "cell_type": "code",
   "execution_count": 37,
   "id": "659454c0",
   "metadata": {},
   "outputs": [
    {
     "data": {
      "text/html": [
       "<div>\n",
       "<style scoped>\n",
       "    .dataframe tbody tr th:only-of-type {\n",
       "        vertical-align: middle;\n",
       "    }\n",
       "\n",
       "    .dataframe tbody tr th {\n",
       "        vertical-align: top;\n",
       "    }\n",
       "\n",
       "    .dataframe thead th {\n",
       "        text-align: right;\n",
       "    }\n",
       "</style>\n",
       "<table border=\"1\" class=\"dataframe\">\n",
       "  <thead>\n",
       "    <tr style=\"text-align: right;\">\n",
       "      <th></th>\n",
       "      <th>Date</th>\n",
       "      <th>Price</th>\n",
       "    </tr>\n",
       "  </thead>\n",
       "  <tbody>\n",
       "    <tr>\n",
       "      <th>0</th>\n",
       "      <td>1987-05-20</td>\n",
       "      <td>18.63</td>\n",
       "    </tr>\n",
       "    <tr>\n",
       "      <th>1</th>\n",
       "      <td>1987-05-21</td>\n",
       "      <td>18.45</td>\n",
       "    </tr>\n",
       "    <tr>\n",
       "      <th>2</th>\n",
       "      <td>1987-05-22</td>\n",
       "      <td>18.55</td>\n",
       "    </tr>\n",
       "    <tr>\n",
       "      <th>3</th>\n",
       "      <td>1987-05-25</td>\n",
       "      <td>18.60</td>\n",
       "    </tr>\n",
       "    <tr>\n",
       "      <th>4</th>\n",
       "      <td>1987-05-26</td>\n",
       "      <td>18.63</td>\n",
       "    </tr>\n",
       "  </tbody>\n",
       "</table>\n",
       "</div>"
      ],
      "text/plain": [
       "         Date  Price\n",
       "0  1987-05-20  18.63\n",
       "1  1987-05-21  18.45\n",
       "2  1987-05-22  18.55\n",
       "3  1987-05-25  18.60\n",
       "4  1987-05-26  18.63"
      ]
     },
     "execution_count": 37,
     "metadata": {},
     "output_type": "execute_result"
    }
   ],
   "source": [
    "df = pd.read_csv('brent-daily.csv')\n",
    "df.head()"
   ]
  },
  {
   "cell_type": "code",
   "execution_count": 38,
   "id": "637ad739",
   "metadata": {},
   "outputs": [],
   "source": [
    "y = df.Price.values[:20]\n",
    "x = np.arange(len(y))"
   ]
  },
  {
   "cell_type": "code",
   "execution_count": 41,
   "id": "49616c2b",
   "metadata": {},
   "outputs": [
    {
     "name": "stdout",
     "output_type": "stream",
     "text": [
      "[ 0  1  2  3  4  5  6  7  8  9 10 11 12 13 14 15 16 17 18 19]\n",
      "[18.63 18.45 18.55 18.6  18.63 18.6  18.6  18.58 18.65 18.68 18.75 18.78\n",
      " 18.65 18.75 18.78 18.78 18.68 18.78 18.9  19.03]\n"
     ]
    }
   ],
   "source": [
    "print(x)\n",
    "print(y)"
   ]
  },
  {
   "cell_type": "code",
   "execution_count": 42,
   "id": "0ec59f8b",
   "metadata": {},
   "outputs": [
    {
     "data": {
      "text/plain": [
       "[<matplotlib.lines.Line2D at 0x7fc023533700>]"
      ]
     },
     "execution_count": 42,
     "metadata": {},
     "output_type": "execute_result"
    },
    {
     "data": {
      "image/png": "[encoded data removed]",
      "text/plain": [
       "<Figure size 432x288 with 1 Axes>"
      ]
     },
     "metadata": {
      "needs_background": "light"
     },
     "output_type": "display_data"
    }
   ],
   "source": [
    "plt.plot(x, y)"
   ]
  },
  {
   "cell_type": "markdown",
   "id": "6282f7e7",
   "metadata": {},
   "source": [
    "### peak detection using sliding window"
   ]
  },
  {
   "cell_type": "code",
   "execution_count": 43,
   "id": "2a63db8e",
   "metadata": {},
   "outputs": [
    {
     "data": {
      "text/plain": [
       "array([[18.63, 18.45, 18.55, 18.6 , 18.63],\n",
       "       [18.45, 18.55, 18.6 , 18.63, 18.6 ],\n",
       "       [18.55, 18.6 , 18.63, 18.6 , 18.6 ],\n",
       "       [18.6 , 18.63, 18.6 , 18.6 , 18.58],\n",
       "       [18.63, 18.6 , 18.6 , 18.58, 18.65],\n",
       "       [18.6 , 18.6 , 18.58, 18.65, 18.68],\n",
       "       [18.6 , 18.58, 18.65, 18.68, 18.75],\n",
       "       [18.58, 18.65, 18.68, 18.75, 18.78],\n",
       "       [18.65, 18.68, 18.75, 18.78, 18.65],\n",
       "       [18.68, 18.75, 18.78, 18.65, 18.75],\n",
       "       [18.75, 18.78, 18.65, 18.75, 18.78],\n",
       "       [18.78, 18.65, 18.75, 18.78, 18.78],\n",
       "       [18.65, 18.75, 18.78, 18.78, 18.68],\n",
       "       [18.75, 18.78, 18.78, 18.68, 18.78],\n",
       "       [18.78, 18.78, 18.68, 18.78, 18.9 ],\n",
       "       [18.78, 18.68, 18.78, 18.9 , 19.03]])"
      ]
     },
     "execution_count": 43,
     "metadata": {},
     "output_type": "execute_result"
    }
   ],
   "source": [
    "w = sliding_window_view(y, window_shape=5)\n",
    "w"
   ]
  },
  {
   "cell_type": "code",
   "execution_count": 55,
   "id": "db53e183",
   "metadata": {},
   "outputs": [
    {
     "name": "stdout",
     "output_type": "stream",
     "text": [
      "x is : [18.63 18.45 18.55 18.6  18.63]\n",
      "[False  True  True False False]\n",
      "   ------------------------------   \n",
      "x is : [18.45 18.55 18.6  18.63 18.6 ]\n",
      "[ True  True  True False  True]\n",
      "   ------------------------------   \n",
      "x is : [18.55 18.6  18.63 18.6  18.6 ]\n",
      "[ True  True  True  True  True]\n",
      "   ------------------------------   \n",
      "x is : [18.6  18.63 18.6  18.6  18.58]\n",
      "[ True False  True  True  True]\n",
      "   ------------------------------   \n",
      "x is : [18.63 18.6  18.6  18.58 18.65]\n",
      "[False  True  True  True False]\n",
      "   ------------------------------   \n",
      "x is : [18.6  18.6  18.58 18.65 18.68]\n",
      "[False False  True False False]\n",
      "   ------------------------------   \n",
      "x is : [18.6  18.58 18.65 18.68 18.75]\n",
      "[ True  True  True False False]\n",
      "   ------------------------------   \n",
      "x is : [18.58 18.65 18.68 18.75 18.78]\n",
      "[ True  True  True False False]\n",
      "   ------------------------------   \n",
      "x is : [18.65 18.68 18.75 18.78 18.65]\n",
      "[ True  True  True False  True]\n",
      "   ------------------------------   \n",
      "x is : [18.68 18.75 18.78 18.65 18.75]\n",
      "[ True  True  True  True  True]\n",
      "   ------------------------------   \n",
      "x is : [18.75 18.78 18.65 18.75 18.78]\n",
      "[False False  True False False]\n",
      "   ------------------------------   \n",
      "x is : [18.78 18.65 18.75 18.78 18.78]\n",
      "[False  True  True False False]\n",
      "   ------------------------------   \n",
      "x is : [18.65 18.75 18.78 18.78 18.68]\n",
      "[ True  True  True  True  True]\n",
      "   ------------------------------   \n",
      "x is : [18.75 18.78 18.78 18.68 18.78]\n",
      "[ True  True  True  True  True]\n",
      "   ------------------------------   \n",
      "x is : [18.78 18.78 18.68 18.78 18.9 ]\n",
      "[False False  True False False]\n",
      "   ------------------------------   \n",
      "x is : [18.78 18.68 18.78 18.9  19.03]\n",
      "[ True  True  True False False]\n",
      "   ------------------------------   \n"
     ]
    },
    {
     "data": {
      "text/plain": [
       "array([False, False,  True, False, False, False, False, False, False,\n",
       "        True, False, False,  True,  True, False, False])"
      ]
     },
     "execution_count": 55,
     "metadata": {},
     "output_type": "execute_result"
    }
   ],
   "source": [
    "def f(x):\n",
    "    print(f'x is : {x}', end='\\n')\n",
    "    mid = len(x)//2\n",
    "    print(x[mid] >= x, end='\\n   ------------------------------   \\n')\n",
    "    return np.all(x[mid] >= x)\n",
    "\n",
    "peak_loc = np.apply_along_axis(f, 1, w)\n",
    "peak_loc"
   ]
  },
  {
   "cell_type": "code",
   "execution_count": 58,
   "id": "6783933a",
   "metadata": {},
   "outputs": [
    {
     "data": {
      "text/plain": [
       "(16,)"
      ]
     },
     "execution_count": 58,
     "metadata": {},
     "output_type": "execute_result"
    }
   ],
   "source": [
    "peak_loc.shape"
   ]
  },
  {
   "cell_type": "code",
   "execution_count": 59,
   "id": "c0eb3ba3",
   "metadata": {},
   "outputs": [],
   "source": [
    "# as you see our peak_loc array shape doesn't match the y and x (peak_loc has 16 elements while y, x had 20),\n",
    "# that's because applying sliding window reduces the size of result array because of it's operation on array.\n",
    "# so we can concatenate the peak_loc array with false values to match the shape of y, x; note that\n",
    "# this doesn't make our data inaccurate"
   ]
  },
  {
   "cell_type": "code",
   "execution_count": 60,
   "id": "12478bb2",
   "metadata": {},
   "outputs": [
    {
     "data": {
      "text/plain": [
       "array([False, False, False, False,  True, False, False, False, False,\n",
       "       False, False,  True, False, False,  True,  True, False, False,\n",
       "       False, False])"
      ]
     },
     "execution_count": 60,
     "metadata": {},
     "output_type": "execute_result"
    }
   ],
   "source": [
    "peak_loc = np.concatenate([[False]*2, peak_loc, [False]*2])\n",
    "peak_loc"
   ]
  },
  {
   "cell_type": "code",
   "execution_count": 61,
   "id": "66515f90",
   "metadata": {},
   "outputs": [
    {
     "data": {
      "text/plain": [
       "array([18.63, 18.45, 18.55, 18.6 , 18.63, 18.6 , 18.6 , 18.58, 18.65,\n",
       "       18.68, 18.75, 18.78, 18.65, 18.75, 18.78, 18.78, 18.68, 18.78,\n",
       "       18.9 , 19.03])"
      ]
     },
     "execution_count": 61,
     "metadata": {},
     "output_type": "execute_result"
    }
   ],
   "source": [
    "y"
   ]
  },
  {
   "cell_type": "code",
   "execution_count": 63,
   "id": "4d68ed19",
   "metadata": {},
   "outputs": [
    {
     "data": {
      "text/plain": [
       "array([18.63, 18.78, 18.78, 18.78])"
      ]
     },
     "execution_count": 63,
     "metadata": {},
     "output_type": "execute_result"
    }
   ],
   "source": [
    "y[peak_loc]"
   ]
  },
  {
   "cell_type": "code",
   "execution_count": 64,
   "id": "574937ff",
   "metadata": {},
   "outputs": [
    {
     "data": {
      "text/plain": [
       "array([ 4, 11, 14, 15])"
      ]
     },
     "execution_count": 64,
     "metadata": {},
     "output_type": "execute_result"
    }
   ],
   "source": [
    "x[peak_loc]"
   ]
  },
  {
   "cell_type": "code",
   "execution_count": 67,
   "id": "2d576e09",
   "metadata": {},
   "outputs": [
    {
     "data": {
      "text/plain": [
       "<matplotlib.collections.PathCollection at 0x7fc0232f75e0>"
      ]
     },
     "execution_count": 67,
     "metadata": {},
     "output_type": "execute_result"
    },
    {
     "data": {
      "image/png": "[encoded data removed]",
      "text/plain": [
       "<Figure size 432x288 with 1 Axes>"
      ]
     },
     "metadata": {
      "needs_background": "light"
     },
     "output_type": "display_data"
    }
   ],
   "source": [
    "plt.plot(x, y)\n",
    "plt.scatter(x[peak_loc], y[peak_loc], color='red')"
   ]
  },
  {
   "cell_type": "code",
   "execution_count": 68,
   "id": "be5773f5",
   "metadata": {},
   "outputs": [],
   "source": [
    "# as you see we found the peak locations !"
   ]
  },
  {
   "cell_type": "code",
   "execution_count": 69,
   "id": "a2633e64",
   "metadata": {},
   "outputs": [],
   "source": [
    "# now we scale up our plot to 1000 values from dataset"
   ]
  },
  {
   "cell_type": "code",
   "execution_count": 70,
   "id": "b0a3d069",
   "metadata": {},
   "outputs": [
    {
     "data": {
      "text/plain": [
       "[<matplotlib.lines.Line2D at 0x7fc022e9a730>]"
      ]
     },
     "execution_count": 70,
     "metadata": {},
     "output_type": "execute_result"
    },
    {
     "data": {
      "image/png": "[encoded data removed]",
      "text/plain": [
       "<Figure size 432x288 with 1 Axes>"
      ]
     },
     "metadata": {
      "needs_background": "light"
     },
     "output_type": "display_data"
    }
   ],
   "source": [
    "y = df.Price.values[:1000]\n",
    "x = np.arange(len(y))\n",
    "plt.plot(x, y)"
   ]
  },
  {
   "cell_type": "code",
   "execution_count": 78,
   "id": "111abb7a",
   "metadata": {},
   "outputs": [],
   "source": [
    "w = sliding_window_view(y, window_shape=51)"
   ]
  },
  {
   "cell_type": "code",
   "execution_count": 79,
   "id": "e691c59e",
   "metadata": {},
   "outputs": [],
   "source": [
    "def f(x):\n",
    "    mid = len(x)//2\n",
    "    return np.all(x[mid] >= x)\n",
    "\n",
    "peak_loc = np.apply_along_axis(f, 1, w)\n",
    "peak_loc = np.concatenate([[False]*25, peak_loc, [False]*25])"
   ]
  },
  {
   "cell_type": "code",
   "execution_count": 80,
   "id": "8cd729ef",
   "metadata": {},
   "outputs": [
    {
     "data": {
      "application/javascript": [
       "/* Put everything inside the global mpl namespace */\n",
       "/* global mpl */\n",
       "window.mpl = {};\n",
       "\n",
       "mpl.get_websocket_type = function () {\n",
       "    if (typeof WebSocket !== 'undefined') {\n",
       "        return WebSocket;\n",
       "    } else if (typeof MozWebSocket !== 'undefined') {\n",
       "        return MozWebSocket;\n",
       "    } else {\n",
       "        alert(\n",
       "            'Your browser does not have WebSocket support. ' +\n",
       "                'Please try Chrome, Safari or Firefox ≥ 6. ' +\n",
       "                'Firefox 4 and 5 are also supported but you ' +\n",
       "                'have to enable WebSockets in about:config.'\n",
       "        );\n",
       "    }\n",
       "};\n",
       "\n",
       "mpl.figure = function (figure_id, websocket, ondownload, parent_element) {\n",
       "    this.id = figure_id;\n",
       "\n",
       "    this.ws = websocket;\n",
       "\n",
       "    this.supports_binary = this.ws.binaryType !== undefined;\n",
       "\n",
       "    if (!this.supports_binary) {\n",
       "        var warnings = document.getElementById('mpl-warnings');\n",
       "        if (warnings) {\n",
       "            warnings.style.display = 'block';\n",
       "            warnings.textContent =\n",
       "                'This browser does not support binary websocket messages. ' +\n",
       "                'Performance may be slow.';\n",
       "        }\n",
       "    }\n",
       "\n",
       "    this.imageObj = new Image();\n",
       "\n",
       "    this.context = undefined;\n",
       "    this.message = undefined;\n",
       "    this.canvas = undefined;\n",
       "    this.rubberband_canvas = undefined;\n",
       "    this.rubberband_context = undefined;\n",
       "    this.format_dropdown = undefined;\n",
       "\n",
       "    this.image_mode = 'full';\n",
       "\n",
       "    this.root = document.createElement('div');\n",
       "    this.root.setAttribute('style', 'display: inline-block');\n",
       "    this._root_extra_style(this.root);\n",
       "\n",
       "    parent_element.appendChild(this.root);\n",
       "\n",
       "    this._init_header(this);\n",
       "    this._init_canvas(this);\n",
       "    this._init_toolbar(this);\n",
       "\n",
       "    var fig = this;\n",
       "\n",
       "    this.waiting = false;\n",
       "\n",
       "    this.ws.onopen = function () {\n",
       "        fig.send_message('supports_binary', { value: fig.supports_binary });\n",
       "        fig.send_message('send_image_mode', {});\n",
       "        if (fig.ratio !== 1) {\n",
       "            fig.send_message('set_device_pixel_ratio', {\n",
       "                device_pixel_ratio: fig.ratio,\n",
       "            });\n",
       "        }\n",
       "        fig.send_message('refresh', {});\n",
       "    };\n",
       "\n",
       "    this.imageObj.onload = function () {\n",
       "        if (fig.image_mode === 'full') {\n",
       "            // Full images could contain transparency (where diff images\n",
       "            // almost always do), so we need to clear the canvas so that\n",
       "            // there is no ghosting.\n",
       "            fig.context.clearRect(0, 0, fig.canvas.width, fig.canvas.height);\n",
       "        }\n",
       "        fig.context.drawImage(fig.imageObj, 0, 0);\n",
       "    };\n",
       "\n",
       "    this.imageObj.onunload = function () {\n",
       "        fig.ws.close();\n",
       "    };\n",
       "\n",
       "    this.ws.onmessage = this._make_on_message_function(this);\n",
       "\n",
       "    this.ondownload = ondownload;\n",
       "};\n",
       "\n",
       "mpl.figure.prototype._init_header = function () {\n",
       "    var titlebar = document.createElement('div');\n",
       "    titlebar.classList =\n",
       "        'ui-dialog-titlebar ui-widget-header ui-corner-all ui-helper-clearfix';\n",
       "    var titletext = document.createElement('div');\n",
       "    titletext.classList = 'ui-dialog-title';\n",
       "    titletext.setAttribute(\n",
       "        'style',\n",
       "        'width: 100%; text-align: center; padding: 3px;'\n",
       "    );\n",
       "    titlebar.appendChild(titletext);\n",
       "    this.root.appendChild(titlebar);\n",
       "    this.header = titletext;\n",
       "};\n",
       "\n",
       "mpl.figure.prototype._canvas_extra_style = function (_canvas_div) {};\n",
       "\n",
       "mpl.figure.prototype._root_extra_style = function (_canvas_div) {};\n",
       "\n",
       "mpl.figure.prototype._init_canvas = function () {\n",
       "    var fig = this;\n",
       "\n",
       "    var canvas_div = (this.canvas_div = document.createElement('div'));\n",
       "    canvas_div.setAttribute(\n",
       "        'style',\n",
       "        'border: 1px solid #ddd;' +\n",
       "            'box-sizing: content-box;' +\n",
       "            'clear: both;' +\n",
       "            'min-height: 1px;' +\n",
       "            'min-width: 1px;' +\n",
       "            'outline: 0;' +\n",
       "            'overflow: hidden;' +\n",
       "            'position: relative;' +\n",
       "            'resize: both;'\n",
       "    );\n",
       "\n",
       "    function on_keyboard_event_closure(name) {\n",
       "        return function (event) {\n",
       "            return fig.key_event(event, name);\n",
       "        };\n",
       "    }\n",
       "\n",
       "    canvas_div.addEventListener(\n",
       "        'keydown',\n",
       "        on_keyboard_event_closure('key_press')\n",
       "    );\n",
       "    canvas_div.addEventListener(\n",
       "        'keyup',\n",
       "        on_keyboard_event_closure('key_release')\n",
       "    );\n",
       "\n",
       "    this._canvas_extra_style(canvas_div);\n",
       "    this.root.appendChild(canvas_div);\n",
       "\n",
       "    var canvas = (this.canvas = document.createElement('canvas'));\n",
       "    canvas.classList.add('mpl-canvas');\n",
       "    canvas.setAttribute('style', 'box-sizing: content-box;');\n",
       "\n",
       "    this.context = canvas.getContext('2d');\n",
       "\n",
       "    var backingStore =\n",
       "        this.context.backingStorePixelRatio ||\n",
       "        this.context.webkitBackingStorePixelRatio ||\n",
       "        this.context.mozBackingStorePixelRatio ||\n",
       "        this.context.msBackingStorePixelRatio ||\n",
       "        this.context.oBackingStorePixelRatio ||\n",
       "        this.context.backingStorePixelRatio ||\n",
       "        1;\n",
       "\n",
       "    this.ratio = (window.devicePixelRatio || 1) / backingStore;\n",
       "\n",
       "    var rubberband_canvas = (this.rubberband_canvas = document.createElement(\n",
       "        'canvas'\n",
       "    ));\n",
       "    rubberband_canvas.setAttribute(\n",
       "        'style',\n",
       "        'box-sizing: content-box; position: absolute; left: 0; top: 0; z-index: 1;'\n",
       "    );\n",
       "\n",
       "    // Apply a ponyfill if ResizeObserver is not implemented by browser.\n",
       "    if (this.ResizeObserver === undefined) {\n",
       "        if (window.ResizeObserver !== undefined) {\n",
       "            this.ResizeObserver = window.ResizeObserver;\n",
       "        } else {\n",
       "            var obs = _JSXTOOLS_RESIZE_OBSERVER({});\n",
       "            this.ResizeObserver = obs.ResizeObserver;\n",
       "        }\n",
       "    }\n",
       "\n",
       "    this.resizeObserverInstance = new this.ResizeObserver(function (entries) {\n",
       "        var nentries = entries.length;\n",
       "        for (var i = 0; i < nentries; i++) {\n",
       "            var entry = entries[i];\n",
       "            var width, height;\n",
       "            if (entry.contentBoxSize) {\n",
       "                if (entry.contentBoxSize instanceof Array) {\n",
       "                    // Chrome 84 implements new version of spec.\n",
       "                    width = entry.contentBoxSize[0].inlineSize;\n",
       "                    height = entry.contentBoxSize[0].blockSize;\n",
       "                } else {\n",
       "                    // Firefox implements old version of spec.\n",
       "                    width = entry.contentBoxSize.inlineSize;\n",
       "                    height = entry.contentBoxSize.blockSize;\n",
       "                }\n",
       "            } else {\n",
       "                // Chrome <84 implements even older version of spec.\n",
       "                width = entry.contentRect.width;\n",
       "                height = entry.contentRect.height;\n",
       "            }\n",
       "\n",
       "            // Keep the size of the canvas and rubber band canvas in sync with\n",
       "            // the canvas container.\n",
       "            if (entry.devicePixelContentBoxSize) {\n",
       "                // Chrome 84 implements new version of spec.\n",
       "                canvas.setAttribute(\n",
       "                    'width',\n",
       "                    entry.devicePixelContentBoxSize[0].inlineSize\n",
       "                );\n",
       "                canvas.setAttribute(\n",
       "                    'height',\n",
       "                    entry.devicePixelContentBoxSize[0].blockSize\n",
       "                );\n",
       "            } else {\n",
       "                canvas.setAttribute('width', width * fig.ratio);\n",
       "                canvas.setAttribute('height', height * fig.ratio);\n",
       "            }\n",
       "            canvas.setAttribute(\n",
       "                'style',\n",
       "                'width: ' + width + 'px; height: ' + height + 'px;'\n",
       "            );\n",
       "\n",
       "            rubberband_canvas.setAttribute('width', width);\n",
       "            rubberband_canvas.setAttribute('height', height);\n",
       "\n",
       "            // And update the size in Python. We ignore the initial 0/0 size\n",
       "            // that occurs as the element is placed into the DOM, which should\n",
       "            // otherwise not happen due to the minimum size styling.\n",
       "            if (fig.ws.readyState == 1 && width != 0 && height != 0) {\n",
       "                fig.request_resize(width, height);\n",
       "            }\n",
       "        }\n",
       "    });\n",
       "    this.resizeObserverInstance.observe(canvas_div);\n",
       "\n",
       "    function on_mouse_event_closure(name) {\n",
       "        return function (event) {\n",
       "            return fig.mouse_event(event, name);\n",
       "        };\n",
       "    }\n",
       "\n",
       "    rubberband_canvas.addEventListener(\n",
       "        'mousedown',\n",
       "        on_mouse_event_closure('button_press')\n",
       "    );\n",
       "    rubberband_canvas.addEventListener(\n",
       "        'mouseup',\n",
       "        on_mouse_event_closure('button_release')\n",
       "    );\n",
       "    rubberband_canvas.addEventListener(\n",
       "        'dblclick',\n",
       "        on_mouse_event_closure('dblclick')\n",
       "    );\n",
       "    // Throttle sequential mouse events to 1 every 20ms.\n",
       "    rubberband_canvas.addEventListener(\n",
       "        'mousemove',\n",
       "        on_mouse_event_closure('motion_notify')\n",
       "    );\n",
       "\n",
       "    rubberband_canvas.addEventListener(\n",
       "        'mouseenter',\n",
       "        on_mouse_event_closure('figure_enter')\n",
       "    );\n",
       "    rubberband_canvas.addEventListener(\n",
       "        'mouseleave',\n",
       "        on_mouse_event_closure('figure_leave')\n",
       "    );\n",
       "\n",
       "    canvas_div.addEventListener('wheel', function (event) {\n",
       "        if (event.deltaY < 0) {\n",
       "            event.step = 1;\n",
       "        } else {\n",
       "            event.step = -1;\n",
       "        }\n",
       "        on_mouse_event_closure('scroll')(event);\n",
       "    });\n",
       "\n",
       "    canvas_div.appendChild(canvas);\n",
       "    canvas_div.appendChild(rubberband_canvas);\n",
       "\n",
       "    this.rubberband_context = rubberband_canvas.getContext('2d');\n",
       "    this.rubberband_context.strokeStyle = '#000000';\n",
       "\n",
       "    this._resize_canvas = function (width, height, forward) {\n",
       "        if (forward) {\n",
       "            canvas_div.style.width = width + 'px';\n",
       "            canvas_div.style.height = height + 'px';\n",
       "        }\n",
       "    };\n",
       "\n",
       "    // Disable right mouse context menu.\n",
       "    this.rubberband_canvas.addEventListener('contextmenu', function (_e) {\n",
       "        event.preventDefault();\n",
       "        return false;\n",
       "    });\n",
       "\n",
       "    function set_focus() {\n",
       "        canvas.focus();\n",
       "        canvas_div.focus();\n",
       "    }\n",
       "\n",
       "    window.setTimeout(set_focus, 100);\n",
       "};\n",
       "\n",
       "mpl.figure.prototype._init_toolbar = function () {\n",
       "    var fig = this;\n",
       "\n",
       "    var toolbar = document.createElement('div');\n",
       "    toolbar.classList = 'mpl-toolbar';\n",
       "    this.root.appendChild(toolbar);\n",
       "\n",
       "    function on_click_closure(name) {\n",
       "        return function (_event) {\n",
       "            return fig.toolbar_button_onclick(name);\n",
       "        };\n",
       "    }\n",
       "\n",
       "    function on_mouseover_closure(tooltip) {\n",
       "        return function (event) {\n",
       "            if (!event.currentTarget.disabled) {\n",
       "                return fig.toolbar_button_onmouseover(tooltip);\n",
       "            }\n",
       "        };\n",
       "    }\n",
       "\n",
       "    fig.buttons = {};\n",
       "    var buttonGroup = document.createElement('div');\n",
       "    buttonGroup.classList = 'mpl-button-group';\n",
       "    for (var toolbar_ind in mpl.toolbar_items) {\n",
       "        var name = mpl.toolbar_items[toolbar_ind][0];\n",
       "        var tooltip = mpl.toolbar_items[toolbar_ind][1];\n",
       "        var image = mpl.toolbar_items[toolbar_ind][2];\n",
       "        var method_name = mpl.toolbar_items[toolbar_ind][3];\n",
       "\n",
       "        if (!name) {\n",
       "            /* Instead of a spacer, we start a new button group. */\n",
       "            if (buttonGroup.hasChildNodes()) {\n",
       "                toolbar.appendChild(buttonGroup);\n",
       "            }\n",
       "            buttonGroup = document.createElement('div');\n",
       "            buttonGroup.classList = 'mpl-button-group';\n",
       "            continue;\n",
       "        }\n",
       "\n",
       "        var button = (fig.buttons[name] = document.createElement('button'));\n",
       "        button.classList = 'mpl-widget';\n",
       "        button.setAttribute('role', 'button');\n",
       "        button.setAttribute('aria-disabled', 'false');\n",
       "        button.addEventListener('click', on_click_closure(method_name));\n",
       "        button.addEventListener('mouseover', on_mouseover_closure(tooltip));\n",
       "\n",
       "        var icon_img = document.createElement('img');\n",
       "        icon_img.src = '_images/' + image + '.png';\n",
       "        icon_img.srcset = '_images/' + image + '_large.png 2x';\n",
       "        icon_img.alt = tooltip;\n",
       "        button.appendChild(icon_img);\n",
       "\n",
       "        buttonGroup.appendChild(button);\n",
       "    }\n",
       "\n",
       "    if (buttonGroup.hasChildNodes()) {\n",
       "        toolbar.appendChild(buttonGroup);\n",
       "    }\n",
       "\n",
       "    var fmt_picker = document.createElement('select');\n",
       "    fmt_picker.classList = 'mpl-widget';\n",
       "    toolbar.appendChild(fmt_picker);\n",
       "    this.format_dropdown = fmt_picker;\n",
       "\n",
       "    for (var ind in mpl.extensions) {\n",
       "        var fmt = mpl.extensions[ind];\n",
       "        var option = document.createElement('option');\n",
       "        option.selected = fmt === mpl.default_extension;\n",
       "        option.innerHTML = fmt;\n",
       "        fmt_picker.appendChild(option);\n",
       "    }\n",
       "\n",
       "    var status_bar = document.createElement('span');\n",
       "    status_bar.classList = 'mpl-message';\n",
       "    toolbar.appendChild(status_bar);\n",
       "    this.message = status_bar;\n",
       "};\n",
       "\n",
       "mpl.figure.prototype.request_resize = function (x_pixels, y_pixels) {\n",
       "    // Request matplotlib to resize the figure. Matplotlib will then trigger a resize in the client,\n",
       "    // which will in turn request a refresh of the image.\n",
       "    this.send_message('resize', { width: x_pixels, height: y_pixels });\n",
       "};\n",
       "\n",
       "mpl.figure.prototype.send_message = function (type, properties) {\n",
       "    properties['type'] = type;\n",
       "    properties['figure_id'] = this.id;\n",
       "    this.ws.send(JSON.stringify(properties));\n",
       "};\n",
       "\n",
       "mpl.figure.prototype.send_draw_message = function () {\n",
       "    if (!this.waiting) {\n",
       "        this.waiting = true;\n",
       "        this.ws.send(JSON.stringify({ type: 'draw', figure_id: this.id }));\n",
       "    }\n",
       "};\n",
       "\n",
       "mpl.figure.prototype.handle_save = function (fig, _msg) {\n",
       "    var format_dropdown = fig.format_dropdown;\n",
       "    var format = format_dropdown.options[format_dropdown.selectedIndex].value;\n",
       "    fig.ondownload(fig, format);\n",
       "};\n",
       "\n",
       "mpl.figure.prototype.handle_resize = function (fig, msg) {\n",
       "    var size = msg['size'];\n",
       "    if (size[0] !== fig.canvas.width || size[1] !== fig.canvas.height) {\n",
       "        fig._resize_canvas(size[0], size[1], msg['forward']);\n",
       "        fig.send_message('refresh', {});\n",
       "    }\n",
       "};\n",
       "\n",
       "mpl.figure.prototype.handle_rubberband = function (fig, msg) {\n",
       "    var x0 = msg['x0'] / fig.ratio;\n",
       "    var y0 = (fig.canvas.height - msg['y0']) / fig.ratio;\n",
       "    var x1 = msg['x1'] / fig.ratio;\n",
       "    var y1 = (fig.canvas.height - msg['y1']) / fig.ratio;\n",
       "    x0 = Math.floor(x0) + 0.5;\n",
       "    y0 = Math.floor(y0) + 0.5;\n",
       "    x1 = Math.floor(x1) + 0.5;\n",
       "    y1 = Math.floor(y1) + 0.5;\n",
       "    var min_x = Math.min(x0, x1);\n",
       "    var min_y = Math.min(y0, y1);\n",
       "    var width = Math.abs(x1 - x0);\n",
       "    var height = Math.abs(y1 - y0);\n",
       "\n",
       "    fig.rubberband_context.clearRect(\n",
       "        0,\n",
       "        0,\n",
       "        fig.canvas.width / fig.ratio,\n",
       "        fig.canvas.height / fig.ratio\n",
       "    );\n",
       "\n",
       "    fig.rubberband_context.strokeRect(min_x, min_y, width, height);\n",
       "};\n",
       "\n",
       "mpl.figure.prototype.handle_figure_label = function (fig, msg) {\n",
       "    // Updates the figure title.\n",
       "    fig.header.textContent = msg['label'];\n",
       "};\n",
       "\n",
       "mpl.figure.prototype.handle_cursor = function (fig, msg) {\n",
       "    fig.rubberband_canvas.style.cursor = msg['cursor'];\n",
       "};\n",
       "\n",
       "mpl.figure.prototype.handle_message = function (fig, msg) {\n",
       "    fig.message.textContent = msg['message'];\n",
       "};\n",
       "\n",
       "mpl.figure.prototype.handle_draw = function (fig, _msg) {\n",
       "    // Request the server to send over a new figure.\n",
       "    fig.send_draw_message();\n",
       "};\n",
       "\n",
       "mpl.figure.prototype.handle_image_mode = function (fig, msg) {\n",
       "    fig.image_mode = msg['mode'];\n",
       "};\n",
       "\n",
       "mpl.figure.prototype.handle_history_buttons = function (fig, msg) {\n",
       "    for (var key in msg) {\n",
       "        if (!(key in fig.buttons)) {\n",
       "            continue;\n",
       "        }\n",
       "        fig.buttons[key].disabled = !msg[key];\n",
       "        fig.buttons[key].setAttribute('aria-disabled', !msg[key]);\n",
       "    }\n",
       "};\n",
       "\n",
       "mpl.figure.prototype.handle_navigate_mode = function (fig, msg) {\n",
       "    if (msg['mode'] === 'PAN') {\n",
       "        fig.buttons['Pan'].classList.add('active');\n",
       "        fig.buttons['Zoom'].classList.remove('active');\n",
       "    } else if (msg['mode'] === 'ZOOM') {\n",
       "        fig.buttons['Pan'].classList.remove('active');\n",
       "        fig.buttons['Zoom'].classList.add('active');\n",
       "    } else {\n",
       "        fig.buttons['Pan'].classList.remove('active');\n",
       "        fig.buttons['Zoom'].classList.remove('active');\n",
       "    }\n",
       "};\n",
       "\n",
       "mpl.figure.prototype.updated_canvas_event = function () {\n",
       "    // Called whenever the canvas gets updated.\n",
       "    this.send_message('ack', {});\n",
       "};\n",
       "\n",
       "// A function to construct a web socket function for onmessage handling.\n",
       "// Called in the figure constructor.\n",
       "mpl.figure.prototype._make_on_message_function = function (fig) {\n",
       "    return function socket_on_message(evt) {\n",
       "        if (evt.data instanceof Blob) {\n",
       "            var img = evt.data;\n",
       "            if (img.type !== 'image/png') {\n",
       "                /* FIXME: We get \"Resource interpreted as Image but\n",
       "                 * transferred with MIME type text/plain:\" errors on\n",
       "                 * Chrome.  But how to set the MIME type?  It doesn't seem\n",
       "                 * to be part of the websocket stream */\n",
       "                img.type = 'image/png';\n",
       "            }\n",
       "\n",
       "            /* Free the memory for the previous frames */\n",
       "            if (fig.imageObj.src) {\n",
       "                (window.URL || window.webkitURL).revokeObjectURL(\n",
       "                    fig.imageObj.src\n",
       "                );\n",
       "            }\n",
       "\n",
       "            fig.imageObj.src = (window.URL || window.webkitURL).createObjectURL(\n",
       "                img\n",
       "            );\n",
       "            fig.updated_canvas_event();\n",
       "            fig.waiting = false;\n",
       "            return;\n",
       "        } else if (\n",
       "            typeof evt.data === 'string' &&\n",
       "            evt.data.slice(0, 21) === 'data:image/png;base64'\n",
       "        ) {\n",
       "            fig.imageObj.src = evt.data;\n",
       "            fig.updated_canvas_event();\n",
       "            fig.waiting = false;\n",
       "            return;\n",
       "        }\n",
       "\n",
       "        var msg = JSON.parse(evt.data);\n",
       "        var msg_type = msg['type'];\n",
       "\n",
       "        // Call the  \"handle_{type}\" callback, which takes\n",
       "        // the figure and JSON message as its only arguments.\n",
       "        try {\n",
       "            var callback = fig['handle_' + msg_type];\n",
       "        } catch (e) {\n",
       "            console.log(\n",
       "                \"No handler for the '\" + msg_type + \"' message type: \",\n",
       "                msg\n",
       "            );\n",
       "            return;\n",
       "        }\n",
       "\n",
       "        if (callback) {\n",
       "            try {\n",
       "                // console.log(\"Handling '\" + msg_type + \"' message: \", msg);\n",
       "                callback(fig, msg);\n",
       "            } catch (e) {\n",
       "                console.log(\n",
       "                    \"Exception inside the 'handler_\" + msg_type + \"' callback:\",\n",
       "                    e,\n",
       "                    e.stack,\n",
       "                    msg\n",
       "                );\n",
       "            }\n",
       "        }\n",
       "    };\n",
       "};\n",
       "\n",
       "// from https://stackoverflow.com/questions/1114465/getting-mouse-location-in-canvas\n",
       "mpl.findpos = function (e) {\n",
       "    //this section is from http://www.quirksmode.org/js/events_properties.html\n",
       "    var targ;\n",
       "    if (!e) {\n",
       "        e = window.event;\n",
       "    }\n",
       "    if (e.target) {\n",
       "        targ = e.target;\n",
       "    } else if (e.srcElement) {\n",
       "        targ = e.srcElement;\n",
       "    }\n",
       "    if (targ.nodeType === 3) {\n",
       "        // defeat Safari bug\n",
       "        targ = targ.parentNode;\n",
       "    }\n",
       "\n",
       "    // pageX,Y are the mouse positions relative to the document\n",
       "    var boundingRect = targ.getBoundingClientRect();\n",
       "    var x = e.pageX - (boundingRect.left + document.body.scrollLeft);\n",
       "    var y = e.pageY - (boundingRect.top + document.body.scrollTop);\n",
       "\n",
       "    return { x: x, y: y };\n",
       "};\n",
       "\n",
       "/*\n",
       " * return a copy of an object with only non-object keys\n",
       " * we need this to avoid circular references\n",
       " * https://stackoverflow.com/a/24161582/3208463\n",
       " */\n",
       "function simpleKeys(original) {\n",
       "    return Object.keys(original).reduce(function (obj, key) {\n",
       "        if (typeof original[key] !== 'object') {\n",
       "            obj[key] = original[key];\n",
       "        }\n",
       "        return obj;\n",
       "    }, {});\n",
       "}\n",
       "\n",
       "mpl.figure.prototype.mouse_event = function (event, name) {\n",
       "    var canvas_pos = mpl.findpos(event);\n",
       "\n",
       "    if (name === 'button_press') {\n",
       "        this.canvas.focus();\n",
       "        this.canvas_div.focus();\n",
       "    }\n",
       "\n",
       "    var x = canvas_pos.x * this.ratio;\n",
       "    var y = canvas_pos.y * this.ratio;\n",
       "\n",
       "    this.send_message(name, {\n",
       "        x: x,\n",
       "        y: y,\n",
       "        button: event.button,\n",
       "        step: event.step,\n",
       "        guiEvent: simpleKeys(event),\n",
       "    });\n",
       "\n",
       "    /* This prevents the web browser from automatically changing to\n",
       "     * the text insertion cursor when the button is pressed.  We want\n",
       "     * to control all of the cursor setting manually through the\n",
       "     * 'cursor' event from matplotlib */\n",
       "    event.preventDefault();\n",
       "    return false;\n",
       "};\n",
       "\n",
       "mpl.figure.prototype._key_event_extra = function (_event, _name) {\n",
       "    // Handle any extra behaviour associated with a key event\n",
       "};\n",
       "\n",
       "mpl.figure.prototype.key_event = function (event, name) {\n",
       "    // Prevent repeat events\n",
       "    if (name === 'key_press') {\n",
       "        if (event.key === this._key) {\n",
       "            return;\n",
       "        } else {\n",
       "            this._key = event.key;\n",
       "        }\n",
       "    }\n",
       "    if (name === 'key_release') {\n",
       "        this._key = null;\n",
       "    }\n",
       "\n",
       "    var value = '';\n",
       "    if (event.ctrlKey && event.key !== 'Control') {\n",
       "        value += 'ctrl+';\n",
       "    }\n",
       "    else if (event.altKey && event.key !== 'Alt') {\n",
       "        value += 'alt+';\n",
       "    }\n",
       "    else if (event.shiftKey && event.key !== 'Shift') {\n",
       "        value += 'shift+';\n",
       "    }\n",
       "\n",
       "    value += 'k' + event.key;\n",
       "\n",
       "    this._key_event_extra(event, name);\n",
       "\n",
       "    this.send_message(name, { key: value, guiEvent: simpleKeys(event) });\n",
       "    return false;\n",
       "};\n",
       "\n",
       "mpl.figure.prototype.toolbar_button_onclick = function (name) {\n",
       "    if (name === 'download') {\n",
       "        this.handle_save(this, null);\n",
       "    } else {\n",
       "        this.send_message('toolbar_button', { name: name });\n",
       "    }\n",
       "};\n",
       "\n",
       "mpl.figure.prototype.toolbar_button_onmouseover = function (tooltip) {\n",
       "    this.message.textContent = tooltip;\n",
       "};\n",
       "\n",
       "///////////////// REMAINING CONTENT GENERATED BY embed_js.py /////////////////\n",
       "// prettier-ignore\n",
       "var _JSXTOOLS_RESIZE_OBSERVER=function(A){var t,i=new WeakMap,n=new WeakMap,a=new WeakMap,r=new WeakMap,o=new Set;function s(e){if(!(this instanceof s))throw new TypeError(\"Constructor requires 'new' operator\");i.set(this,e)}function h(){throw new TypeError(\"Function is not a constructor\")}function c(e,t,i,n){e=0 in arguments?Number(arguments[0]):0,t=1 in arguments?Number(arguments[1]):0,i=2 in arguments?Number(arguments[2]):0,n=3 in arguments?Number(arguments[3]):0,this.right=(this.x=this.left=e)+(this.width=i),this.bottom=(this.y=this.top=t)+(this.height=n),Object.freeze(this)}function d(){t=requestAnimationFrame(d);var s=new WeakMap,p=new Set;o.forEach((function(t){r.get(t).forEach((function(i){var r=t instanceof window.SVGElement,o=a.get(t),d=r?0:parseFloat(o.paddingTop),f=r?0:parseFloat(o.paddingRight),l=r?0:parseFloat(o.paddingBottom),u=r?0:parseFloat(o.paddingLeft),g=r?0:parseFloat(o.borderTopWidth),m=r?0:parseFloat(o.borderRightWidth),w=r?0:parseFloat(o.borderBottomWidth),b=u+f,F=d+l,v=(r?0:parseFloat(o.borderLeftWidth))+m,W=g+w,y=r?0:t.offsetHeight-W-t.clientHeight,E=r?0:t.offsetWidth-v-t.clientWidth,R=b+v,z=F+W,M=r?t.width:parseFloat(o.width)-R-E,O=r?t.height:parseFloat(o.height)-z-y;if(n.has(t)){var k=n.get(t);if(k[0]===M&&k[1]===O)return}n.set(t,[M,O]);var S=Object.create(h.prototype);S.target=t,S.contentRect=new c(u,d,M,O),s.has(i)||(s.set(i,[]),p.add(i)),s.get(i).push(S)}))})),p.forEach((function(e){i.get(e).call(e,s.get(e),e)}))}return s.prototype.observe=function(i){if(i instanceof window.Element){r.has(i)||(r.set(i,new Set),o.add(i),a.set(i,window.getComputedStyle(i)));var n=r.get(i);n.has(this)||n.add(this),cancelAnimationFrame(t),t=requestAnimationFrame(d)}},s.prototype.unobserve=function(i){if(i instanceof window.Element&&r.has(i)){var n=r.get(i);n.has(this)&&(n.delete(this),n.size||(r.delete(i),o.delete(i))),n.size||r.delete(i),o.size||cancelAnimationFrame(t)}},A.DOMRectReadOnly=c,A.ResizeObserver=s,A.ResizeObserverEntry=h,A}; // eslint-disable-line\n",
       "mpl.toolbar_items = [[\"Home\", \"Reset original view\", \"fa fa-home icon-home\", \"home\"], [\"Back\", \"Back to previous view\", \"fa fa-arrow-left icon-arrow-left\", \"back\"], [\"Forward\", \"Forward to next view\", \"fa fa-arrow-right icon-arrow-right\", \"forward\"], [\"\", \"\", \"\", \"\"], [\"Pan\", \"Left button pans, Right button zooms\\nx/y fixes axis, CTRL fixes aspect\", \"fa fa-arrows icon-move\", \"pan\"], [\"Zoom\", \"Zoom to rectangle\\nx/y fixes axis\", \"fa fa-square-o icon-check-empty\", \"zoom\"], [\"\", \"\", \"\", \"\"], [\"Download\", \"Download plot\", \"fa fa-floppy-o icon-save\", \"download\"]];\n",
       "\n",
       "mpl.extensions = [\"eps\", \"jpeg\", \"pgf\", \"pdf\", \"png\", \"ps\", \"raw\", \"svg\", \"tif\"];\n",
       "\n",
       "mpl.default_extension = \"png\";/* global mpl */\n",
       "\n",
       "var comm_websocket_adapter = function (comm) {\n",
       "    // Create a \"websocket\"-like object which calls the given IPython comm\n",
       "    // object with the appropriate methods. Currently this is a non binary\n",
       "    // socket, so there is still some room for performance tuning.\n",
       "    var ws = {};\n",
       "\n",
       "    ws.binaryType = comm.kernel.ws.binaryType;\n",
       "    ws.readyState = comm.kernel.ws.readyState;\n",
       "    function updateReadyState(_event) {\n",
       "        if (comm.kernel.ws) {\n",
       "            ws.readyState = comm.kernel.ws.readyState;\n",
       "        } else {\n",
       "            ws.readyState = 3; // Closed state.\n",
       "        }\n",
       "    }\n",
       "    comm.kernel.ws.addEventListener('open', updateReadyState);\n",
       "    comm.kernel.ws.addEventListener('close', updateReadyState);\n",
       "    comm.kernel.ws.addEventListener('error', updateReadyState);\n",
       "\n",
       "    ws.close = function () {\n",
       "        comm.close();\n",
       "    };\n",
       "    ws.send = function (m) {\n",
       "        //console.log('sending', m);\n",
       "        comm.send(m);\n",
       "    };\n",
       "    // Register the callback with on_msg.\n",
       "    comm.on_msg(function (msg) {\n",
       "        //console.log('receiving', msg['content']['data'], msg);\n",
       "        var data = msg['content']['data'];\n",
       "        if (data['blob'] !== undefined) {\n",
       "            data = {\n",
       "                data: new Blob(msg['buffers'], { type: data['blob'] }),\n",
       "            };\n",
       "        }\n",
       "        // Pass the mpl event to the overridden (by mpl) onmessage function.\n",
       "        ws.onmessage(data);\n",
       "    });\n",
       "    return ws;\n",
       "};\n",
       "\n",
       "mpl.mpl_figure_comm = function (comm, msg) {\n",
       "    // This is the function which gets called when the mpl process\n",
       "    // starts-up an IPython Comm through the \"matplotlib\" channel.\n",
       "\n",
       "    var id = msg.content.data.id;\n",
       "    // Get hold of the div created by the display call when the Comm\n",
       "    // socket was opened in Python.\n",
       "    var element = document.getElementById(id);\n",
       "    var ws_proxy = comm_websocket_adapter(comm);\n",
       "\n",
       "    function ondownload(figure, _format) {\n",
       "        window.open(figure.canvas.toDataURL());\n",
       "    }\n",
       "\n",
       "    var fig = new mpl.figure(id, ws_proxy, ondownload, element);\n",
       "\n",
       "    // Call onopen now - mpl needs it, as it is assuming we've passed it a real\n",
       "    // web socket which is closed, not our websocket->open comm proxy.\n",
       "    ws_proxy.onopen();\n",
       "\n",
       "    fig.parent_element = element;\n",
       "    fig.cell_info = mpl.find_output_cell(\"<div id='\" + id + \"'></div>\");\n",
       "    if (!fig.cell_info) {\n",
       "        console.error('Failed to find cell for figure', id, fig);\n",
       "        return;\n",
       "    }\n",
       "    fig.cell_info[0].output_area.element.on(\n",
       "        'cleared',\n",
       "        { fig: fig },\n",
       "        fig._remove_fig_handler\n",
       "    );\n",
       "};\n",
       "\n",
       "mpl.figure.prototype.handle_close = function (fig, msg) {\n",
       "    var width = fig.canvas.width / fig.ratio;\n",
       "    fig.cell_info[0].output_area.element.off(\n",
       "        'cleared',\n",
       "        fig._remove_fig_handler\n",
       "    );\n",
       "    fig.resizeObserverInstance.unobserve(fig.canvas_div);\n",
       "\n",
       "    // Update the output cell to use the data from the current canvas.\n",
       "    fig.push_to_output();\n",
       "    var dataURL = fig.canvas.toDataURL();\n",
       "    // Re-enable the keyboard manager in IPython - without this line, in FF,\n",
       "    // the notebook keyboard shortcuts fail.\n",
       "    IPython.keyboard_manager.enable();\n",
       "    fig.parent_element.innerHTML =\n",
       "        '<img src=\"' + dataURL + '\" width=\"' + width + '\">';\n",
       "    fig.close_ws(fig, msg);\n",
       "};\n",
       "\n",
       "mpl.figure.prototype.close_ws = function (fig, msg) {\n",
       "    fig.send_message('closing', msg);\n",
       "    // fig.ws.close()\n",
       "};\n",
       "\n",
       "mpl.figure.prototype.push_to_output = function (_remove_interactive) {\n",
       "    // Turn the data on the canvas into data in the output cell.\n",
       "    var width = this.canvas.width / this.ratio;\n",
       "    var dataURL = this.canvas.toDataURL();\n",
       "    this.cell_info[1]['text/html'] =\n",
       "        '<img src=\"' + dataURL + '\" width=\"' + width + '\">';\n",
       "};\n",
       "\n",
       "mpl.figure.prototype.updated_canvas_event = function () {\n",
       "    // Tell IPython that the notebook contents must change.\n",
       "    IPython.notebook.set_dirty(true);\n",
       "    this.send_message('ack', {});\n",
       "    var fig = this;\n",
       "    // Wait a second, then push the new image to the DOM so\n",
       "    // that it is saved nicely (might be nice to debounce this).\n",
       "    setTimeout(function () {\n",
       "        fig.push_to_output();\n",
       "    }, 1000);\n",
       "};\n",
       "\n",
       "mpl.figure.prototype._init_toolbar = function () {\n",
       "    var fig = this;\n",
       "\n",
       "    var toolbar = document.createElement('div');\n",
       "    toolbar.classList = 'btn-toolbar';\n",
       "    this.root.appendChild(toolbar);\n",
       "\n",
       "    function on_click_closure(name) {\n",
       "        return function (_event) {\n",
       "            return fig.toolbar_button_onclick(name);\n",
       "        };\n",
       "    }\n",
       "\n",
       "    function on_mouseover_closure(tooltip) {\n",
       "        return function (event) {\n",
       "            if (!event.currentTarget.disabled) {\n",
       "                return fig.toolbar_button_onmouseover(tooltip);\n",
       "            }\n",
       "        };\n",
       "    }\n",
       "\n",
       "    fig.buttons = {};\n",
       "    var buttonGroup = document.createElement('div');\n",
       "    buttonGroup.classList = 'btn-group';\n",
       "    var button;\n",
       "    for (var toolbar_ind in mpl.toolbar_items) {\n",
       "        var name = mpl.toolbar_items[toolbar_ind][0];\n",
       "        var tooltip = mpl.toolbar_items[toolbar_ind][1];\n",
       "        var image = mpl.toolbar_items[toolbar_ind][2];\n",
       "        var method_name = mpl.toolbar_items[toolbar_ind][3];\n",
       "\n",
       "        if (!name) {\n",
       "            /* Instead of a spacer, we start a new button group. */\n",
       "            if (buttonGroup.hasChildNodes()) {\n",
       "                toolbar.appendChild(buttonGroup);\n",
       "            }\n",
       "            buttonGroup = document.createElement('div');\n",
       "            buttonGroup.classList = 'btn-group';\n",
       "            continue;\n",
       "        }\n",
       "\n",
       "        button = fig.buttons[name] = document.createElement('button');\n",
       "        button.classList = 'btn btn-default';\n",
       "        button.href = '#';\n",
       "        button.title = name;\n",
       "        button.innerHTML = '<i class=\"fa ' + image + ' fa-lg\"></i>';\n",
       "        button.addEventListener('click', on_click_closure(method_name));\n",
       "        button.addEventListener('mouseover', on_mouseover_closure(tooltip));\n",
       "        buttonGroup.appendChild(button);\n",
       "    }\n",
       "\n",
       "    if (buttonGroup.hasChildNodes()) {\n",
       "        toolbar.appendChild(buttonGroup);\n",
       "    }\n",
       "\n",
       "    // Add the status bar.\n",
       "    var status_bar = document.createElement('span');\n",
       "    status_bar.classList = 'mpl-message pull-right';\n",
       "    toolbar.appendChild(status_bar);\n",
       "    this.message = status_bar;\n",
       "\n",
       "    // Add the close button to the window.\n",
       "    var buttongrp = document.createElement('div');\n",
       "    buttongrp.classList = 'btn-group inline pull-right';\n",
       "    button = document.createElement('button');\n",
       "    button.classList = 'btn btn-mini btn-primary';\n",
       "    button.href = '#';\n",
       "    button.title = 'Stop Interaction';\n",
       "    button.innerHTML = '<i class=\"fa fa-power-off icon-remove icon-large\"></i>';\n",
       "    button.addEventListener('click', function (_evt) {\n",
       "        fig.handle_close(fig, {});\n",
       "    });\n",
       "    button.addEventListener(\n",
       "        'mouseover',\n",
       "        on_mouseover_closure('Stop Interaction')\n",
       "    );\n",
       "    buttongrp.appendChild(button);\n",
       "    var titlebar = this.root.querySelector('.ui-dialog-titlebar');\n",
       "    titlebar.insertBefore(buttongrp, titlebar.firstChild);\n",
       "};\n",
       "\n",
       "mpl.figure.prototype._remove_fig_handler = function (event) {\n",
       "    var fig = event.data.fig;\n",
       "    if (event.target !== this) {\n",
       "        // Ignore bubbled events from children.\n",
       "        return;\n",
       "    }\n",
       "    fig.close_ws(fig, {});\n",
       "};\n",
       "\n",
       "mpl.figure.prototype._root_extra_style = function (el) {\n",
       "    el.style.boxSizing = 'content-box'; // override notebook setting of border-box.\n",
       "};\n",
       "\n",
       "mpl.figure.prototype._canvas_extra_style = function (el) {\n",
       "    // this is important to make the div 'focusable\n",
       "    el.setAttribute('tabindex', 0);\n",
       "    // reach out to IPython and tell the keyboard manager to turn it's self\n",
       "    // off when our div gets focus\n",
       "\n",
       "    // location in version 3\n",
       "    if (IPython.notebook.keyboard_manager) {\n",
       "        IPython.notebook.keyboard_manager.register_events(el);\n",
       "    } else {\n",
       "        // location in version 2\n",
       "        IPython.keyboard_manager.register_events(el);\n",
       "    }\n",
       "};\n",
       "\n",
       "mpl.figure.prototype._key_event_extra = function (event, _name) {\n",
       "    // Check for shift+enter\n",
       "    if (event.shiftKey && event.which === 13) {\n",
       "        this.canvas_div.blur();\n",
       "        // select the cell after this one\n",
       "        var index = IPython.notebook.find_cell_index(this.cell_info[0]);\n",
       "        IPython.notebook.select(index + 1);\n",
       "    }\n",
       "};\n",
       "\n",
       "mpl.figure.prototype.handle_save = function (fig, _msg) {\n",
       "    fig.ondownload(fig, null);\n",
       "};\n",
       "\n",
       "mpl.find_output_cell = function (html_output) {\n",
       "    // Return the cell and output element which can be found *uniquely* in the notebook.\n",
       "    // Note - this is a bit hacky, but it is done because the \"notebook_saving.Notebook\"\n",
       "    // IPython event is triggered only after the cells have been serialised, which for\n",
       "    // our purposes (turning an active figure into a static one), is too late.\n",
       "    var cells = IPython.notebook.get_cells();\n",
       "    var ncells = cells.length;\n",
       "    for (var i = 0; i < ncells; i++) {\n",
       "        var cell = cells[i];\n",
       "        if (cell.cell_type === 'code') {\n",
       "            for (var j = 0; j < cell.output_area.outputs.length; j++) {\n",
       "                var data = cell.output_area.outputs[j];\n",
       "                if (data.data) {\n",
       "                    // IPython >= 3 moved mimebundle to data attribute of output\n",
       "                    data = data.data;\n",
       "                }\n",
       "                if (data['text/html'] === html_output) {\n",
       "                    return [cell, data, j];\n",
       "                }\n",
       "            }\n",
       "        }\n",
       "    }\n",
       "};\n",
       "\n",
       "// Register the function which deals with the matplotlib target/channel.\n",
       "// The kernel may be null if the page has been refreshed.\n",
       "if (IPython.notebook.kernel !== null) {\n",
       "    IPython.notebook.kernel.comm_manager.register_target(\n",
       "        'matplotlib',\n",
       "        mpl.mpl_figure_comm\n",
       "    );\n",
       "}\n"
      ],
      "text/plain": [
       "<IPython.core.display.Javascript object>"
      ]
     },
     "metadata": {},
     "output_type": "display_data"
    },
    {
     "data": {
      "text/html": [
       "<img src=\"data:image/png;base64,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\" width=\"432\">"
      ],
      "text/plain": [
       "<IPython.core.display.HTML object>"
      ]
     },
     "metadata": {},
     "output_type": "display_data"
    },
    {
     "data": {
      "text/plain": [
       "<matplotlib.collections.PathCollection at 0x7fc022da8610>"
      ]
     },
     "execution_count": 80,
     "metadata": {},
     "output_type": "execute_result"
    }
   ],
   "source": [
    "plt.plot(x, y)\n",
    "plt.scatter(x[peak_loc], y[peak_loc], color='red')"
   ]
  },
  {
   "cell_type": "code",
   "execution_count": null,
   "id": "a96ced2d",
   "metadata": {},
   "outputs": [],
   "source": []
  }
 ],
 "metadata": {
  "kernelspec": {
   "display_name": "Python 3 (ipykernel)",
   "language": "python",
   "name": "python3"
  },
  "language_info": {
   "codemirror_mode": {
    "name": "ipython",
    "version": 3
   },
   "file_extension": ".py",
   "mimetype": "text/x-python",
   "name": "python",
   "nbconvert_exporter": "python",
   "pygments_lexer": "ipython3",
   "version": "3.8.10"
  }
 },
 "nbformat": 4,
 "nbformat_minor": 5
}
