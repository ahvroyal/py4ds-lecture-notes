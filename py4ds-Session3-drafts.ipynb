{
 "cells": [
  {
   "cell_type": "markdown",
   "id": "7c1f43d7",
   "metadata": {},
   "source": [
    "## Session 3 (Basic structs)"
   ]
  },
  {
   "cell_type": "markdown",
   "id": "25acf7e8",
   "metadata": {},
   "source": [
    "### List"
   ]
  },
  {
   "cell_type": "code",
   "execution_count": 1,
   "id": "232328cb",
   "metadata": {},
   "outputs": [],
   "source": [
    "# Defining lists\n",
    "numbers = [7, 10, 13]\n",
    "names = [\"ali\", \"hamid\", \"sara\"]\n",
    "ages = [22, 40, 28]"
   ]
  },
  {
   "cell_type": "code",
   "execution_count": 2,
   "id": "2ac10f6f",
   "metadata": {},
   "outputs": [
    {
     "name": "stdout",
     "output_type": "stream",
     "text": [
      "hello ali\n",
      "hello hamid\n",
      "hello sara\n"
     ]
    }
   ],
   "source": [
    "# Looping through list\n",
    "for name in names:\n",
    "    print(\"hello \" + name)\n",
    "    # we can only concatenate string variable to string (directly)"
   ]
  },
  {
   "cell_type": "code",
   "execution_count": 3,
   "id": "e6944960",
   "metadata": {},
   "outputs": [
    {
     "name": "stdout",
     "output_type": "stream",
     "text": [
      "age is : 22\n",
      "age is : 40\n",
      "age is : 28\n"
     ]
    }
   ],
   "source": [
    "for age in ages:\n",
    "    print(f\"age is : {age}\")\n",
    "    # print(\"age is : \" + str(age))"
   ]
  },
  {
   "cell_type": "code",
   "execution_count": 4,
   "id": "485baa14",
   "metadata": {},
   "outputs": [
    {
     "name": "stdout",
     "output_type": "stream",
     "text": [
      "7\n",
      "10\n",
      "13\n"
     ]
    }
   ],
   "source": [
    "for number in numbers:\n",
    "    print(number)"
   ]
  },
  {
   "cell_type": "code",
   "execution_count": 5,
   "id": "b16074e2",
   "metadata": {},
   "outputs": [
    {
     "name": "stdout",
     "output_type": "stream",
     "text": [
      "hamid\n",
      "sara\n"
     ]
    }
   ],
   "source": [
    "# indexing\n",
    "print(names[1])\n",
    "print(names[-1])  # start from last item with use of negative sign"
   ]
  },
  {
   "cell_type": "code",
   "execution_count": 6,
   "id": "33bba3c3",
   "metadata": {},
   "outputs": [
    {
     "name": "stdout",
     "output_type": "stream",
     "text": [
      "['hamid', 'sara']\n",
      "['ali', 'hamid']\n",
      "['ali', 'hamid', 'sara']\n",
      "['ali', 'hamid', 'sara']\n",
      "['ali', 'hamid']\n",
      "['ali', 'sara']\n"
     ]
    }
   ],
   "source": [
    "# slicing [start:stop:step]\n",
    "print(names[1:3])\n",
    "print(names[0:-1])\n",
    "print(names[:])\n",
    "print(names[0:])\n",
    "print(names[:-1])\n",
    "print(names[0::2])  # with third parameter, we can define the steps"
   ]
  },
  {
   "cell_type": "code",
   "execution_count": 7,
   "id": "ac7c663d",
   "metadata": {},
   "outputs": [
    {
     "name": "stdout",
     "output_type": "stream",
     "text": [
      "hi hamid\n",
      "hi sara\n"
     ]
    }
   ],
   "source": [
    "friends = names[1:3]\n",
    "for friend in friends:\n",
    "    print(f'hi {friend}')"
   ]
  },
  {
   "cell_type": "code",
   "execution_count": 9,
   "id": "f5492409",
   "metadata": {},
   "outputs": [
    {
     "name": "stdout",
     "output_type": "stream",
     "text": [
      "['ali', 'hamid', 'sara', 'zahra']\n",
      "['ali', 'hamid', 'sara', 'babak', 'zahra']\n",
      "['ali', 'hamid', 'sara', 'zahra']\n",
      "['ali', 'hamid', 'sara']\n"
     ]
    }
   ],
   "source": [
    "# adding and removing to/from lists\n",
    "names.append(\"zahra\")  # append to the end of list\n",
    "print(names)\n",
    "names.insert(3, \"babak\")  # insert at any location inside list\n",
    "print(names)\n",
    "names.pop(-2)  # removes the specified item index\n",
    "print(names)\n",
    "names.remove(\"zahra\")  # removes the corresponding object (in this case string)\n",
    "print(names)"
   ]
  },
  {
   "cell_type": "code",
   "execution_count": 12,
   "id": "f892f49e",
   "metadata": {},
   "outputs": [],
   "source": [
    "# concatenating lists\n",
    "girls = [\"sara\", \"mona\", \"nahid\"]\n",
    "boys = [\"saeed\", \"reza\", \"poria\"]"
   ]
  },
  {
   "cell_type": "code",
   "execution_count": 13,
   "id": "fdcd5188",
   "metadata": {},
   "outputs": [
    {
     "name": "stdout",
     "output_type": "stream",
     "text": [
      "['sara', 'mona', 'nahid', 'saeed', 'reza', 'poria']\n"
     ]
    }
   ],
   "source": [
    "all_people = girls + boys\n",
    "print(all_people)"
   ]
  },
  {
   "cell_type": "code",
   "execution_count": 14,
   "id": "2cdad523",
   "metadata": {},
   "outputs": [
    {
     "name": "stdout",
     "output_type": "stream",
     "text": [
      "['sara', 'mona', 'nahid', 'saeed', 'reza', 'poria']\n"
     ]
    }
   ],
   "source": [
    "girls.extend(boys)  # concatenates boys list to the end of girls list\n",
    "print(girls)"
   ]
  },
  {
   "cell_type": "code",
   "execution_count": 15,
   "id": "cb9edbec",
   "metadata": {},
   "outputs": [
    {
     "name": "stdout",
     "output_type": "stream",
     "text": [
      "sara\n",
      "mona\n",
      "nahid\n",
      "saeed\n",
      "reza\n",
      "poria\n"
     ]
    }
   ],
   "source": [
    "# iteration over lists\n",
    "for x in girls:\n",
    "    print(x)"
   ]
  },
  {
   "cell_type": "code",
   "execution_count": 16,
   "id": "5209413e",
   "metadata": {},
   "outputs": [
    {
     "name": "stdout",
     "output_type": "stream",
     "text": [
      "0 : sara\n",
      "1 : mona\n",
      "2 : nahid\n",
      "3 : saeed\n",
      "4 : reza\n",
      "5 : poria\n"
     ]
    }
   ],
   "source": [
    "for i in range(6):\n",
    "    print(f\"{i} : {girls[i]}\")"
   ]
  },
  {
   "cell_type": "code",
   "execution_count": 17,
   "id": "b0d13b80",
   "metadata": {},
   "outputs": [
    {
     "name": "stdout",
     "output_type": "stream",
     "text": [
      "range(0, 6)\n"
     ]
    }
   ],
   "source": [
    "r = range(6)\n",
    "print(r)"
   ]
  },
  {
   "cell_type": "code",
   "execution_count": 18,
   "id": "8718de92",
   "metadata": {},
   "outputs": [
    {
     "name": "stdout",
     "output_type": "stream",
     "text": [
      "0\n",
      "1\n",
      "2\n",
      "3\n",
      "4\n",
      "5\n"
     ]
    }
   ],
   "source": [
    "for i in r:\n",
    "    print(i)"
   ]
  },
  {
   "cell_type": "code",
   "execution_count": 19,
   "id": "33158f01",
   "metadata": {},
   "outputs": [
    {
     "data": {
      "text/plain": [
       "range(4, -1, -1)"
      ]
     },
     "execution_count": 19,
     "metadata": {},
     "output_type": "execute_result"
    }
   ],
   "source": [
    "# range is a generator, which generates the array only when needed\n",
    "# range(start, stop, step)\n",
    "range(4)    # generates [0, 1, 2, 3]\n",
    "range(2, 4)    # generates [2, 3]\n",
    "range(4, 0, -1)    # generates [4, 3, 2, 1]\n",
    "range(4, -1, -1)    # generates [4, 3, 2, 1]"
   ]
  },
  {
   "cell_type": "code",
   "execution_count": 20,
   "id": "b4267b36",
   "metadata": {},
   "outputs": [],
   "source": [
    "# range above won't generate the list up until we explicitly tell him to do it, with :\n",
    "# list(range(4))"
   ]
  },
  {
   "cell_type": "code",
   "execution_count": 21,
   "id": "4173588e",
   "metadata": {},
   "outputs": [
    {
     "name": "stdout",
     "output_type": "stream",
     "text": [
      "poria\n",
      "reza\n",
      "saeed\n"
     ]
    }
   ],
   "source": [
    "for i in range(len(boys)-1, -1, -1):\n",
    "    print(boys[i])"
   ]
  },
  {
   "cell_type": "code",
   "execution_count": 22,
   "id": "1223a016",
   "metadata": {},
   "outputs": [
    {
     "name": "stdout",
     "output_type": "stream",
     "text": [
      "0 saeed\n",
      "1 reza\n",
      "2 poria\n"
     ]
    }
   ],
   "source": [
    "# for iterating and also having the indexes we usually use this method,\n",
    "# enumerate is a generator like range, but it returns index + item\n",
    "for i, x in enumerate(boys):\n",
    "    print(i, x)"
   ]
  },
  {
   "cell_type": "code",
   "execution_count": 24,
   "id": "5aac8ccb",
   "metadata": {},
   "outputs": [
    {
     "name": "stdout",
     "output_type": "stream",
     "text": [
      "ali is 40 years old\n",
      "hamid is 17 years old\n",
      "sara is 11 years old\n",
      "reza is 23 years old\n"
     ]
    }
   ],
   "source": [
    "names = [\"ali\", \"hamid\", \"sara\", \"reza\"]\n",
    "ages = [40, 17, 11, 23]\n",
    "\n",
    "# if we want to iterate on two list with same length, on way to do it is :\n",
    "for i in range(len(names)):\n",
    "    age = ages[i]\n",
    "    name = names[i]\n",
    "    print(f'{name} is {age} years old')\n",
    "    \n",
    "# but we usually won't do this.    "
   ]
  },
  {
   "cell_type": "code",
   "execution_count": 25,
   "id": "095d0556",
   "metadata": {},
   "outputs": [
    {
     "name": "stdout",
     "output_type": "stream",
     "text": [
      "[('ali', 40), ('hamid', 17), ('sara', 11), ('reza', 23)]\n"
     ]
    }
   ],
   "source": [
    "# instead there is a better way to do this, as described below :\n",
    "# zipping two lists two each other (zip is also a generator)\n",
    "print(list(zip(names, ages)))"
   ]
  },
  {
   "cell_type": "code",
   "execution_count": 26,
   "id": "5b5bc310",
   "metadata": {},
   "outputs": [
    {
     "name": "stdout",
     "output_type": "stream",
     "text": [
      "ali is 40 years old.\n",
      "hamid is 17 years old.\n",
      "sara is 11 years old.\n",
      "reza is 23 years old.\n"
     ]
    }
   ],
   "source": [
    "for name, age in zip(names, ages):\n",
    "    print(f\"{name} is {age} years old.\")"
   ]
  },
  {
   "cell_type": "code",
   "execution_count": 27,
   "id": "ea075bd7",
   "metadata": {},
   "outputs": [
    {
     "name": "stdout",
     "output_type": "stream",
     "text": [
      "reza\n",
      "sara\n",
      "hamid\n",
      "ali\n"
     ]
    }
   ],
   "source": [
    "# reversed function will return an iterator over the reversed original list\n",
    "for name in reversed(names):\n",
    "    print(name)"
   ]
  },
  {
   "cell_type": "code",
   "execution_count": null,
   "id": "42a45d43",
   "metadata": {},
   "outputs": [],
   "source": []
  }
 ],
 "metadata": {
  "kernelspec": {
   "display_name": "Python 3 (ipykernel)",
   "language": "python",
   "name": "python3"
  },
  "language_info": {
   "codemirror_mode": {
    "name": "ipython",
    "version": 3
   },
   "file_extension": ".py",
   "mimetype": "text/x-python",
   "name": "python",
   "nbconvert_exporter": "python",
   "pygments_lexer": "ipython3",
   "version": "3.8.10"
  }
 },
 "nbformat": 4,
 "nbformat_minor": 5
}
