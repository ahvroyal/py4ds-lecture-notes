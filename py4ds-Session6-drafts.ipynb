{
 "cells": [
  {
   "cell_type": "markdown",
   "id": "352de4eb",
   "metadata": {},
   "source": [
    "## Session 6 (numpy part a)\n",
    "\n",
    "### Basic array operations"
   ]
  },
  {
   "cell_type": "code",
   "execution_count": 1,
   "id": "975945ea",
   "metadata": {},
   "outputs": [],
   "source": [
    "import numpy as np"
   ]
  },
  {
   "cell_type": "markdown",
   "id": "1db037c1",
   "metadata": {},
   "source": [
    "### Creation of different arrays using numpy"
   ]
  },
  {
   "cell_type": "code",
   "execution_count": 2,
   "id": "448729a7",
   "metadata": {},
   "outputs": [
    {
     "data": {
      "text/plain": [
       "array([1, 3, 2, 8])"
      ]
     },
     "execution_count": 2,
     "metadata": {},
     "output_type": "execute_result"
    }
   ],
   "source": [
    "a = np.array([1, 3, 2, 8])\n",
    "a"
   ]
  },
  {
   "cell_type": "code",
   "execution_count": 3,
   "id": "663410e3",
   "metadata": {},
   "outputs": [
    {
     "data": {
      "text/plain": [
       "array([1., 3., 2., 8.])"
      ]
     },
     "execution_count": 3,
     "metadata": {},
     "output_type": "execute_result"
    }
   ],
   "source": [
    "a = np.array([1, 3, 2, 8], dtype='float64')\n",
    "a"
   ]
  },
  {
   "cell_type": "code",
   "execution_count": 4,
   "id": "6b797afb",
   "metadata": {},
   "outputs": [
    {
     "data": {
      "text/plain": [
       "array([0., 0., 0., 0.])"
      ]
     },
     "execution_count": 4,
     "metadata": {},
     "output_type": "execute_result"
    }
   ],
   "source": [
    "np.zeros(4)"
   ]
  },
  {
   "cell_type": "code",
   "execution_count": 5,
   "id": "db1407b0",
   "metadata": {},
   "outputs": [
    {
     "data": {
      "text/plain": [
       "array([[0., 0., 0.],\n",
       "       [0., 0., 0.],\n",
       "       [0., 0., 0.],\n",
       "       [0., 0., 0.]])"
      ]
     },
     "execution_count": 5,
     "metadata": {},
     "output_type": "execute_result"
    }
   ],
   "source": [
    "np.zeros((4, 3))"
   ]
  },
  {
   "cell_type": "code",
   "execution_count": 8,
   "id": "535385c0",
   "metadata": {},
   "outputs": [
    {
     "data": {
      "text/plain": [
       "array([1., 1., 1., 1., 1., 1., 1., 1., 1., 1.])"
      ]
     },
     "execution_count": 8,
     "metadata": {},
     "output_type": "execute_result"
    }
   ],
   "source": [
    "np.ones(10)"
   ]
  },
  {
   "cell_type": "code",
   "execution_count": 10,
   "id": "7b3cc588",
   "metadata": {},
   "outputs": [
    {
     "data": {
      "text/plain": [
       "array([[123, 123, 123, 123, 123, 123],\n",
       "       [123, 123, 123, 123, 123, 123],\n",
       "       [123, 123, 123, 123, 123, 123],\n",
       "       [123, 123, 123, 123, 123, 123]])"
      ]
     },
     "execution_count": 10,
     "metadata": {},
     "output_type": "execute_result"
    }
   ],
   "source": [
    "np.full((4, 6), 123)"
   ]
  },
  {
   "cell_type": "code",
   "execution_count": 13,
   "id": "bf4329b7",
   "metadata": {},
   "outputs": [
    {
     "data": {
      "text/plain": [
       "array([[123, 123, 123, 123, 123, 123],\n",
       "       [123, 123, 123, 123, 123, 123],\n",
       "       [123, 123, 123, 123, 123, 123],\n",
       "       [123, 123, 123, 123, 123, 123]])"
      ]
     },
     "execution_count": 13,
     "metadata": {},
     "output_type": "execute_result"
    }
   ],
   "source": [
    "# Return a new array of given shape and type, filled with `fill_value`.\n",
    "a = np.full(shape=(4, 6), fill_value=123)\n",
    "a"
   ]
  },
  {
   "cell_type": "code",
   "execution_count": 14,
   "id": "b02e8869",
   "metadata": {},
   "outputs": [
    {
     "data": {
      "text/plain": [
       "123"
      ]
     },
     "execution_count": 14,
     "metadata": {},
     "output_type": "execute_result"
    }
   ],
   "source": [
    "a[1][2]"
   ]
  },
  {
   "cell_type": "code",
   "execution_count": 18,
   "id": "a796711f",
   "metadata": {},
   "outputs": [],
   "source": [
    "# we can have array of multiple dimensions\n",
    "\n",
    "# 1d\n",
    "arr_1d = np.ones(4)\n",
    "\n",
    "# 2d\n",
    "arr_2d = np.ones((4, 3))\n",
    "\n",
    "# 3d\n",
    "arr_3d = np.ones((4, 3, 2))"
   ]
  },
  {
   "cell_type": "code",
   "execution_count": 24,
   "id": "12d9a4e9",
   "metadata": {},
   "outputs": [
    {
     "name": "stdout",
     "output_type": "stream",
     "text": [
      "[1. 1. 1. 1.]\n",
      " \n",
      " ------------------------- \n",
      " \n",
      "[[1. 1. 1.]\n",
      " [1. 1. 1.]\n",
      " [1. 1. 1.]\n",
      " [1. 1. 1.]]\n",
      " \n",
      " ------------------------- \n",
      " \n",
      "[[[1. 1.]\n",
      "  [1. 1.]\n",
      "  [1. 1.]]\n",
      "\n",
      " [[1. 1.]\n",
      "  [1. 1.]\n",
      "  [1. 1.]]\n",
      "\n",
      " [[1. 1.]\n",
      "  [1. 1.]\n",
      "  [1. 1.]]\n",
      "\n",
      " [[1. 1.]\n",
      "  [1. 1.]\n",
      "  [1. 1.]]]\n",
      " \n",
      " ------------------------- \n",
      " \n"
     ]
    }
   ],
   "source": [
    "print(arr_1d, end='\\n \\n ------------------------- \\n \\n')\n",
    "print(arr_2d, end='\\n \\n ------------------------- \\n \\n')\n",
    "print(arr_3d, end='\\n \\n ------------------------- \\n \\n')"
   ]
  },
  {
   "cell_type": "code",
   "execution_count": 30,
   "id": "50afa049",
   "metadata": {},
   "outputs": [
    {
     "data": {
      "text/plain": [
       "1.0"
      ]
     },
     "execution_count": 30,
     "metadata": {},
     "output_type": "execute_result"
    }
   ],
   "source": [
    "arr_3d[2][2][1]"
   ]
  },
  {
   "cell_type": "code",
   "execution_count": 31,
   "id": "64c8f90d",
   "metadata": {},
   "outputs": [
    {
     "data": {
      "text/plain": [
       "array([ 0,  1,  2,  3,  4,  5,  6,  7,  8,  9, 10, 11, 12, 13, 14, 15, 16,\n",
       "       17, 18, 19])"
      ]
     },
     "execution_count": 31,
     "metadata": {},
     "output_type": "execute_result"
    }
   ],
   "source": [
    "# Return evenly spaced values within a given interval.\n",
    "# (start, stop, step)\n",
    "np.arange(20)"
   ]
  },
  {
   "cell_type": "code",
   "execution_count": 32,
   "id": "35fc9650",
   "metadata": {},
   "outputs": [
    {
     "data": {
      "text/plain": [
       "array([ 5,  6,  7,  8,  9, 10, 11, 12, 13, 14, 15, 16, 17, 18, 19])"
      ]
     },
     "execution_count": 32,
     "metadata": {},
     "output_type": "execute_result"
    }
   ],
   "source": [
    "np.arange(5, 20)"
   ]
  },
  {
   "cell_type": "code",
   "execution_count": 33,
   "id": "8c74b11c",
   "metadata": {},
   "outputs": [
    {
     "data": {
      "text/plain": [
       "array([ 5,  7,  9, 11, 13, 15, 17, 19])"
      ]
     },
     "execution_count": 33,
     "metadata": {},
     "output_type": "execute_result"
    }
   ],
   "source": [
    "np.arange(5, 20, 2)"
   ]
  },
  {
   "cell_type": "code",
   "execution_count": 34,
   "id": "c3d00c9d",
   "metadata": {},
   "outputs": [
    {
     "data": {
      "text/plain": [
       "array([0.   , 0.125, 0.25 , 0.375, 0.5  , 0.625, 0.75 , 0.875, 1.   ])"
      ]
     },
     "execution_count": 34,
     "metadata": {},
     "output_type": "execute_result"
    }
   ],
   "source": [
    "# Return evenly spaced numbers over a specified interval.\n",
    "# Returns `num` evenly spaced samples, calculated over the interval [`start`, `stop`].\n",
    "# (start, stop, num)\n",
    "np.linspace(0, 1, 9)"
   ]
  },
  {
   "cell_type": "code",
   "execution_count": 35,
   "id": "076c0776",
   "metadata": {},
   "outputs": [
    {
     "data": {
      "text/plain": [
       "array([0.47750918, 0.36899676, 0.43846608, 0.25516576])"
      ]
     },
     "execution_count": 35,
     "metadata": {},
     "output_type": "execute_result"
    }
   ],
   "source": [
    "# Return random floats in the half-open interval [0.0, 1.0).\n",
    "np.random.random(4)"
   ]
  },
  {
   "cell_type": "code",
   "execution_count": 37,
   "id": "16de5e7a",
   "metadata": {},
   "outputs": [
    {
     "data": {
      "text/plain": [
       "array([[0.45193806, 0.17052513, 0.24772271],\n",
       "       [0.95325172, 0.5145713 , 0.52204182],\n",
       "       [0.09357026, 0.63672881, 0.9653966 ],\n",
       "       [0.24244893, 0.12082582, 0.42120812]])"
      ]
     },
     "execution_count": 37,
     "metadata": {},
     "output_type": "execute_result"
    }
   ],
   "source": [
    "np.random.random((4, 3))"
   ]
  },
  {
   "cell_type": "code",
   "execution_count": 38,
   "id": "2bbb9238",
   "metadata": {},
   "outputs": [
    {
     "data": {
      "text/plain": [
       "array([[5.25158682, 2.62720123, 1.73482045],\n",
       "       [1.09264134, 2.93351339, 5.45483418],\n",
       "       [7.05028306, 5.5289178 , 8.80711323],\n",
       "       [9.16967306, 6.19060393, 6.7245199 ]])"
      ]
     },
     "execution_count": 38,
     "metadata": {},
     "output_type": "execute_result"
    }
   ],
   "source": [
    "# uniform(low=0.0, high=1.0, size=None)\n",
    "# Draw samples from a uniform distribution.\n",
    "# Samples are uniformly distributed over the half-open interval [low, high) (includes low, but excludes high).\n",
    "np.random.uniform(0, 10, (4, 3))"
   ]
  },
  {
   "cell_type": "code",
   "execution_count": 39,
   "id": "5eb9ba74",
   "metadata": {},
   "outputs": [
    {
     "data": {
      "text/plain": [
       "array([[ 965.32149642, 1045.93691752],\n",
       "       [ 962.86154685, 1015.69399372]])"
      ]
     },
     "execution_count": 39,
     "metadata": {},
     "output_type": "execute_result"
    }
   ],
   "source": [
    "# normal(loc=0.0, scale=1.0, size=None)\n",
    "# loc = Mean (\"centre\"), scale = Standard deviation (spread or \"width\")\n",
    "# Draw random samples from a normal (Gaussian) distribution.\n",
    "np.random.normal(1000, 50, (2, 2))"
   ]
  },
  {
   "cell_type": "markdown",
   "id": "499c285a",
   "metadata": {},
   "source": [
    "## Session 6 (numpy part b)"
   ]
  },
  {
   "cell_type": "markdown",
   "id": "d2142699",
   "metadata": {},
   "source": [
    "### Accessing array items"
   ]
  },
  {
   "cell_type": "code",
   "execution_count": 43,
   "id": "b8ce99e8",
   "metadata": {},
   "outputs": [
    {
     "data": {
      "text/plain": [
       "(array([4, 8, 1, 3, 9, 5]),\n",
       " array([[5, 9, 3, 1],\n",
       "        [6, 4, 3, 9],\n",
       "        [1, 7, 8, 3]]))"
      ]
     },
     "execution_count": 43,
     "metadata": {},
     "output_type": "execute_result"
    }
   ],
   "source": [
    "x = np.array([4, 8, 1, 3, 9, 5])\n",
    "y = np.array([[5, 9, 3, 1], \n",
    "              [6, 4, 3, 9],\n",
    "              [1, 7, 8, 3]])\n",
    "\n",
    "x, y"
   ]
  },
  {
   "cell_type": "code",
   "execution_count": 44,
   "id": "05900a70",
   "metadata": {},
   "outputs": [
    {
     "data": {
      "text/plain": [
       "1"
      ]
     },
     "execution_count": 44,
     "metadata": {},
     "output_type": "execute_result"
    }
   ],
   "source": [
    "x[2]"
   ]
  },
  {
   "cell_type": "code",
   "execution_count": 46,
   "id": "83c6bae7",
   "metadata": {},
   "outputs": [
    {
     "data": {
      "text/plain": [
       "9"
      ]
     },
     "execution_count": 46,
     "metadata": {},
     "output_type": "execute_result"
    }
   ],
   "source": [
    "x[-2]"
   ]
  },
  {
   "cell_type": "code",
   "execution_count": 47,
   "id": "e46c13bb",
   "metadata": {},
   "outputs": [
    {
     "data": {
      "text/plain": [
       "7"
      ]
     },
     "execution_count": 47,
     "metadata": {},
     "output_type": "execute_result"
    }
   ],
   "source": [
    "y[2][1]"
   ]
  },
  {
   "cell_type": "code",
   "execution_count": 49,
   "id": "b61b5806",
   "metadata": {},
   "outputs": [
    {
     "data": {
      "text/plain": [
       "7"
      ]
     },
     "execution_count": 49,
     "metadata": {},
     "output_type": "execute_result"
    }
   ],
   "source": [
    "y[2,1]"
   ]
  },
  {
   "cell_type": "code",
   "execution_count": 50,
   "id": "6d75f1d9",
   "metadata": {},
   "outputs": [
    {
     "data": {
      "text/plain": [
       "3"
      ]
     },
     "execution_count": 50,
     "metadata": {},
     "output_type": "execute_result"
    }
   ],
   "source": [
    "y[2,-1]"
   ]
  },
  {
   "cell_type": "markdown",
   "id": "da95cc8e",
   "metadata": {},
   "source": [
    "### Slicing"
   ]
  },
  {
   "cell_type": "code",
   "execution_count": 55,
   "id": "f6ab1de8",
   "metadata": {},
   "outputs": [],
   "source": [
    "# slicing --> x[start:stop:step]  * stop is excluded from the result set\n",
    "# * in case of absence of the three params --> start : beginning of the range\n",
    "#                                                stop  : end of the range\n",
    "#                                                step  : is 1\n",
    "# * in case of negative values --> start & stop : is considered from the end of the range\n",
    "#                                    step         : is reversed"
   ]
  },
  {
   "cell_type": "code",
   "execution_count": 56,
   "id": "79336bb7",
   "metadata": {},
   "outputs": [],
   "source": [
    "x = np.array([4, 8, 1, 3, 9, 5, 11, 6, 2])"
   ]
  },
  {
   "cell_type": "code",
   "execution_count": 57,
   "id": "5809cf9c",
   "metadata": {},
   "outputs": [
    {
     "data": {
      "text/plain": [
       "array([8, 3, 5])"
      ]
     },
     "execution_count": 57,
     "metadata": {},
     "output_type": "execute_result"
    }
   ],
   "source": [
    "x[1:6:2]"
   ]
  },
  {
   "cell_type": "code",
   "execution_count": 58,
   "id": "bfe9862c",
   "metadata": {},
   "outputs": [
    {
     "data": {
      "text/plain": [
       "array([8, 1, 3, 9, 5])"
      ]
     },
     "execution_count": 58,
     "metadata": {},
     "output_type": "execute_result"
    }
   ],
   "source": [
    "x[1:6]"
   ]
  },
  {
   "cell_type": "code",
   "execution_count": 59,
   "id": "b91d64d0",
   "metadata": {},
   "outputs": [
    {
     "data": {
      "text/plain": [
       "array([4, 8, 1, 3])"
      ]
     },
     "execution_count": 59,
     "metadata": {},
     "output_type": "execute_result"
    }
   ],
   "source": [
    "x[:4]"
   ]
  },
  {
   "cell_type": "code",
   "execution_count": 60,
   "id": "6cd312e4",
   "metadata": {},
   "outputs": [
    {
     "data": {
      "text/plain": [
       "array([3, 5, 6])"
      ]
     },
     "execution_count": 60,
     "metadata": {},
     "output_type": "execute_result"
    }
   ],
   "source": [
    "x[3::2]"
   ]
  },
  {
   "cell_type": "code",
   "execution_count": 61,
   "id": "9a7f3b20",
   "metadata": {},
   "outputs": [
    {
     "data": {
      "text/plain": [
       "array([ 2,  6, 11,  5,  9,  3,  1,  8,  4])"
      ]
     },
     "execution_count": 61,
     "metadata": {},
     "output_type": "execute_result"
    }
   ],
   "source": [
    "x[::-1]"
   ]
  },
  {
   "cell_type": "code",
   "execution_count": 62,
   "id": "77619510",
   "metadata": {},
   "outputs": [
    {
     "data": {
      "text/plain": [
       "array([ 5, 11,  6])"
      ]
     },
     "execution_count": 62,
     "metadata": {},
     "output_type": "execute_result"
    }
   ],
   "source": [
    "x[-4:-1:1]"
   ]
  },
  {
   "cell_type": "code",
   "execution_count": 65,
   "id": "bba40d2a",
   "metadata": {},
   "outputs": [
    {
     "data": {
      "text/plain": [
       "array([ 6, 11,  5,  9,  3])"
      ]
     },
     "execution_count": 65,
     "metadata": {},
     "output_type": "execute_result"
    }
   ],
   "source": [
    "x[-2:-7:-1]"
   ]
  },
  {
   "cell_type": "code",
   "execution_count": 69,
   "id": "a845c266",
   "metadata": {},
   "outputs": [
    {
     "data": {
      "text/plain": [
       "array([8, 3, 5, 6])"
      ]
     },
     "execution_count": 69,
     "metadata": {},
     "output_type": "execute_result"
    }
   ],
   "source": [
    "x[1:-1:2]"
   ]
  },
  {
   "cell_type": "code",
   "execution_count": 71,
   "id": "7bf4b51e",
   "metadata": {},
   "outputs": [
    {
     "data": {
      "text/plain": [
       "array([ 4,  8,  1,  3,  9,  5, 11,  6,  2])"
      ]
     },
     "execution_count": 71,
     "metadata": {},
     "output_type": "execute_result"
    }
   ],
   "source": [
    "x[:]"
   ]
  },
  {
   "cell_type": "code",
   "execution_count": 67,
   "id": "326df9fd",
   "metadata": {},
   "outputs": [],
   "source": [
    "# slicing of multi-dimensional arrays"
   ]
  },
  {
   "cell_type": "code",
   "execution_count": 72,
   "id": "13839b27",
   "metadata": {},
   "outputs": [],
   "source": [
    "y = np.array([[5, 9, 3, 1, 4], \n",
    "              [6, 4, 3, 9, 1],\n",
    "              [1, 7, 8, 3, 12],\n",
    "              [11, 8, 6, 1, 9]])"
   ]
  },
  {
   "cell_type": "code",
   "execution_count": 73,
   "id": "15261085",
   "metadata": {},
   "outputs": [
    {
     "data": {
      "text/plain": [
       "array([[4, 3, 9],\n",
       "       [7, 8, 3]])"
      ]
     },
     "execution_count": 73,
     "metadata": {},
     "output_type": "execute_result"
    }
   ],
   "source": [
    "y[1:3,1:4]"
   ]
  },
  {
   "cell_type": "code",
   "execution_count": 78,
   "id": "114708bc",
   "metadata": {},
   "outputs": [
    {
     "data": {
      "text/plain": [
       "array([[ 5,  3,  4],\n",
       "       [ 1,  8, 12]])"
      ]
     },
     "execution_count": 78,
     "metadata": {},
     "output_type": "execute_result"
    }
   ],
   "source": [
    "y[::2,::2]"
   ]
  },
  {
   "cell_type": "code",
   "execution_count": 79,
   "id": "5787c40b",
   "metadata": {},
   "outputs": [
    {
     "data": {
      "text/plain": [
       "array([[11,  8,  6,  1,  9],\n",
       "       [ 1,  7,  8,  3, 12],\n",
       "       [ 6,  4,  3,  9,  1],\n",
       "       [ 5,  9,  3,  1,  4]])"
      ]
     },
     "execution_count": 79,
     "metadata": {},
     "output_type": "execute_result"
    }
   ],
   "source": [
    "y[::-1,::]"
   ]
  },
  {
   "cell_type": "code",
   "execution_count": 84,
   "id": "7cb723f1",
   "metadata": {},
   "outputs": [],
   "source": [
    "# important tip --> numpy slicing gives us a VIEW of the original array in contrast to the\n",
    "#                   python standard slicing which gives us a COPY of that.\n",
    "# which means in numpy slicing, any change to the view, also applies to the original array"
   ]
  },
  {
   "cell_type": "code",
   "execution_count": 80,
   "id": "76f208a1",
   "metadata": {},
   "outputs": [
    {
     "name": "stdout",
     "output_type": "stream",
     "text": [
      "[[ 5  9  3  1  4]\n",
      " [ 6  4  3  9  1]\n",
      " [ 1  7  8  3 12]\n",
      " [11  8  6  1  9]]\n"
     ]
    }
   ],
   "source": [
    "print(y)"
   ]
  },
  {
   "cell_type": "code",
   "execution_count": 81,
   "id": "88f80ee8",
   "metadata": {},
   "outputs": [
    {
     "name": "stdout",
     "output_type": "stream",
     "text": [
      "[[ 1  7]\n",
      " [11  8]]\n"
     ]
    }
   ],
   "source": [
    "z = y[2:,:2]\n",
    "print(z)"
   ]
  },
  {
   "cell_type": "code",
   "execution_count": 82,
   "id": "f415cfbb",
   "metadata": {},
   "outputs": [
    {
     "name": "stdout",
     "output_type": "stream",
     "text": [
      "[[1000    7]\n",
      " [  11    8]]\n"
     ]
    }
   ],
   "source": [
    "z[0,0] = 1000\n",
    "print(z)"
   ]
  },
  {
   "cell_type": "code",
   "execution_count": 83,
   "id": "ffc50929",
   "metadata": {},
   "outputs": [
    {
     "name": "stdout",
     "output_type": "stream",
     "text": [
      "[[   5    9    3    1    4]\n",
      " [   6    4    3    9    1]\n",
      " [1000    7    8    3   12]\n",
      " [  11    8    6    1    9]]\n"
     ]
    }
   ],
   "source": [
    "print(y)"
   ]
  },
  {
   "cell_type": "code",
   "execution_count": 85,
   "id": "fffc2d76",
   "metadata": {},
   "outputs": [],
   "source": [
    "# from above code output we see that the modification of z array, also applies to y"
   ]
  },
  {
   "cell_type": "code",
   "execution_count": 86,
   "id": "5ade7de6",
   "metadata": {},
   "outputs": [],
   "source": [
    "# if we would like to keep the original array unchanged, we can get a copy of that"
   ]
  },
  {
   "cell_type": "code",
   "execution_count": 88,
   "id": "63ef3a95",
   "metadata": {},
   "outputs": [
    {
     "data": {
      "text/plain": [
       "array([[5, 9],\n",
       "       [6, 4]])"
      ]
     },
     "execution_count": 88,
     "metadata": {},
     "output_type": "execute_result"
    }
   ],
   "source": [
    "t = y[0:2,0:2].copy()\n",
    "t"
   ]
  },
  {
   "cell_type": "code",
   "execution_count": 90,
   "id": "9c25dcae",
   "metadata": {},
   "outputs": [
    {
     "data": {
      "text/plain": [
       "array([[1000,    9],\n",
       "       [   6,    4]])"
      ]
     },
     "execution_count": 90,
     "metadata": {},
     "output_type": "execute_result"
    }
   ],
   "source": [
    "t[0,0] = 1000\n",
    "t"
   ]
  },
  {
   "cell_type": "code",
   "execution_count": 92,
   "id": "ff855d90",
   "metadata": {},
   "outputs": [
    {
     "data": {
      "text/plain": [
       "array([[   5,    9,    3,    1,    4],\n",
       "       [   6,    4,    3,    9,    1],\n",
       "       [1000,    7,    8,    3,   12],\n",
       "       [  11,    8,    6,    1,    9]])"
      ]
     },
     "execution_count": 92,
     "metadata": {},
     "output_type": "execute_result"
    }
   ],
   "source": [
    "y"
   ]
  },
  {
   "cell_type": "markdown",
   "id": "d54a3fb6",
   "metadata": {},
   "source": [
    "### Reshaping"
   ]
  },
  {
   "cell_type": "code",
   "execution_count": 124,
   "id": "6168ff09",
   "metadata": {},
   "outputs": [
    {
     "name": "stdout",
     "output_type": "stream",
     "text": [
      "[ 6 11  9  4  3  1  2  5 17]\n"
     ]
    }
   ],
   "source": [
    "a = np.array([6, 11, 9, 4, 3, 1, 2, 5, 17])\n",
    "print(a)"
   ]
  },
  {
   "cell_type": "code",
   "execution_count": 125,
   "id": "8fb97de5",
   "metadata": {},
   "outputs": [
    {
     "data": {
      "text/plain": [
       "(9,)"
      ]
     },
     "execution_count": 125,
     "metadata": {},
     "output_type": "execute_result"
    }
   ],
   "source": [
    "a.shape"
   ]
  },
  {
   "cell_type": "code",
   "execution_count": 126,
   "id": "f6643e88",
   "metadata": {},
   "outputs": [
    {
     "data": {
      "text/plain": [
       "array([[ 6, 11,  9],\n",
       "       [ 4,  3,  1],\n",
       "       [ 2,  5, 17]])"
      ]
     },
     "execution_count": 126,
     "metadata": {},
     "output_type": "execute_result"
    }
   ],
   "source": [
    "# note that this method doesn't change the original array\n",
    "# it sometimes returns view and sometimes copy of the array\n",
    "# the new shape must match the array size (i.e. in our case, array of size 9 can reshape in to (3, 3), but\n",
    "# if array size was 10, then reshaping will raise an error.)\n",
    "a.reshape(3, 3)"
   ]
  },
  {
   "cell_type": "code",
   "execution_count": 127,
   "id": "3be9d160",
   "metadata": {},
   "outputs": [
    {
     "data": {
      "text/plain": [
       "array([ 6, 11,  9,  4,  3,  1,  2,  5, 17])"
      ]
     },
     "execution_count": 127,
     "metadata": {},
     "output_type": "execute_result"
    }
   ],
   "source": [
    "a"
   ]
  },
  {
   "cell_type": "code",
   "execution_count": 128,
   "id": "50fffae8",
   "metadata": {},
   "outputs": [],
   "source": [
    "b = a.reshape(1, 9)"
   ]
  },
  {
   "cell_type": "code",
   "execution_count": 129,
   "id": "fa5215c4",
   "metadata": {},
   "outputs": [
    {
     "name": "stdout",
     "output_type": "stream",
     "text": [
      "[ 6 11  9  4  3  1  2  5 17]\n"
     ]
    }
   ],
   "source": [
    "print(a)"
   ]
  },
  {
   "cell_type": "code",
   "execution_count": 130,
   "id": "a27a0336",
   "metadata": {},
   "outputs": [
    {
     "name": "stdout",
     "output_type": "stream",
     "text": [
      "[[ 6 11  9  4  3  1  2  5 17]]\n"
     ]
    }
   ],
   "source": [
    "print(b)"
   ]
  },
  {
   "cell_type": "code",
   "execution_count": 131,
   "id": "2eda0c8f",
   "metadata": {},
   "outputs": [
    {
     "name": "stdout",
     "output_type": "stream",
     "text": [
      "[[ 6 11  9  4  3  1  2  5 17]]\n"
     ]
    }
   ],
   "source": [
    "c = a[np.newaxis, :]\n",
    "print(c)"
   ]
  },
  {
   "cell_type": "code",
   "execution_count": 137,
   "id": "ccbab8ff",
   "metadata": {},
   "outputs": [
    {
     "data": {
      "text/plain": [
       "array([[ 6],\n",
       "       [11],\n",
       "       [ 9],\n",
       "       [ 4],\n",
       "       [ 3],\n",
       "       [ 1],\n",
       "       [ 2],\n",
       "       [ 5],\n",
       "       [17]])"
      ]
     },
     "execution_count": 137,
     "metadata": {},
     "output_type": "execute_result"
    }
   ],
   "source": [
    "a.reshape(9, 1)"
   ]
  },
  {
   "cell_type": "code",
   "execution_count": 138,
   "id": "5f928b6f",
   "metadata": {},
   "outputs": [
    {
     "name": "stdout",
     "output_type": "stream",
     "text": [
      "[[ 6]\n",
      " [11]\n",
      " [ 9]\n",
      " [ 4]\n",
      " [ 3]\n",
      " [ 1]\n",
      " [ 2]\n",
      " [ 5]\n",
      " [17]]\n"
     ]
    }
   ],
   "source": [
    "c2 = a[:, np.newaxis]\n",
    "print(c2)"
   ]
  },
  {
   "cell_type": "code",
   "execution_count": 117,
   "id": "856cf1ea",
   "metadata": {},
   "outputs": [],
   "source": [
    "a = np.array([6, 11, 9, 4, 3, 1, 2, 5, 17, 3, 1, 6])"
   ]
  },
  {
   "cell_type": "code",
   "execution_count": 119,
   "id": "b3bd8032",
   "metadata": {},
   "outputs": [
    {
     "data": {
      "text/plain": [
       "array([[ 6, 11,  9,  4,  3,  1],\n",
       "       [ 2,  5, 17,  3,  1,  6]])"
      ]
     },
     "execution_count": 119,
     "metadata": {},
     "output_type": "execute_result"
    }
   ],
   "source": [
    "a.reshape(2, 6)"
   ]
  },
  {
   "cell_type": "code",
   "execution_count": 120,
   "id": "2306acc7",
   "metadata": {},
   "outputs": [
    {
     "data": {
      "text/plain": [
       "array([[ 6, 11,  9,  4,  3,  1],\n",
       "       [ 2,  5, 17,  3,  1,  6]])"
      ]
     },
     "execution_count": 120,
     "metadata": {},
     "output_type": "execute_result"
    }
   ],
   "source": [
    "# for (i)D dimensional array we could only give the reshape method constructor only (i-1)D params,\n",
    "# the other value will be calculated by method automatically based on the size of the array.\n",
    "# note that we have to give -1 for the missing value\n",
    "a.reshape(-1, 6)"
   ]
  },
  {
   "cell_type": "code",
   "execution_count": 121,
   "id": "03a89bb8",
   "metadata": {},
   "outputs": [
    {
     "data": {
      "text/plain": [
       "array([[[ 6, 11,  9],\n",
       "        [ 4,  3,  1]],\n",
       "\n",
       "       [[ 2,  5, 17],\n",
       "        [ 3,  1,  6]]])"
      ]
     },
     "execution_count": 121,
     "metadata": {},
     "output_type": "execute_result"
    }
   ],
   "source": [
    "a.reshape(2, 2, 3)"
   ]
  },
  {
   "cell_type": "code",
   "execution_count": 122,
   "id": "cb9d9730",
   "metadata": {},
   "outputs": [
    {
     "data": {
      "text/plain": [
       "array([[[ 6, 11,  9],\n",
       "        [ 4,  3,  1]],\n",
       "\n",
       "       [[ 2,  5, 17],\n",
       "        [ 3,  1,  6]]])"
      ]
     },
     "execution_count": 122,
     "metadata": {},
     "output_type": "execute_result"
    }
   ],
   "source": [
    "a.reshape(2, -1, 3)"
   ]
  },
  {
   "cell_type": "code",
   "execution_count": null,
   "id": "4de5a451",
   "metadata": {},
   "outputs": [],
   "source": []
  }
 ],
 "metadata": {
  "kernelspec": {
   "display_name": "Python 3 (ipykernel)",
   "language": "python",
   "name": "python3"
  },
  "language_info": {
   "codemirror_mode": {
    "name": "ipython",
    "version": 3
   },
   "file_extension": ".py",
   "mimetype": "text/x-python",
   "name": "python",
   "nbconvert_exporter": "python",
   "pygments_lexer": "ipython3",
   "version": "3.8.10"
  }
 },
 "nbformat": 4,
 "nbformat_minor": 5
}
